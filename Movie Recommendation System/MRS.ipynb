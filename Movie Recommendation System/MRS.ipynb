{
 "cells": [
  {
   "cell_type": "code",
   "execution_count": 63,
   "id": "962dcfc2-de75-4ae3-a036-f80c20c9bcb1",
   "metadata": {},
   "outputs": [],
   "source": [
    "import numpy as np\n",
    "import pandas as pd\n",
    "from sklearn.metrics.pairwise import cosine_similarity\n",
    "from typing import Tuple , Dict\n",
    "from sklearn.decomposition import TruncatedSVD"
   ]
  },
  {
   "cell_type": "code",
   "execution_count": 64,
   "id": "b90a0d14-e7da-46aa-b79a-53d28130b036",
   "metadata": {},
   "outputs": [],
   "source": [
    "columns = ['user_id', 'item_id', 'rating', 'timestamp']\n",
    "data = pd.read_csv('ml-100k/u.data',sep='\\t',names=columns)"
   ]
  },
  {
   "cell_type": "code",
   "execution_count": 65,
   "id": "5d3fca8e-5fa1-4689-af35-71bb53a83ae9",
   "metadata": {},
   "outputs": [
    {
     "data": {
      "text/html": [
       "<div>\n",
       "<style scoped>\n",
       "    .dataframe tbody tr th:only-of-type {\n",
       "        vertical-align: middle;\n",
       "    }\n",
       "\n",
       "    .dataframe tbody tr th {\n",
       "        vertical-align: top;\n",
       "    }\n",
       "\n",
       "    .dataframe thead th {\n",
       "        text-align: right;\n",
       "    }\n",
       "</style>\n",
       "<table border=\"1\" class=\"dataframe\">\n",
       "  <thead>\n",
       "    <tr style=\"text-align: right;\">\n",
       "      <th></th>\n",
       "      <th>user_id</th>\n",
       "      <th>item_id</th>\n",
       "      <th>rating</th>\n",
       "      <th>timestamp</th>\n",
       "    </tr>\n",
       "  </thead>\n",
       "  <tbody>\n",
       "    <tr>\n",
       "      <th>0</th>\n",
       "      <td>196</td>\n",
       "      <td>242</td>\n",
       "      <td>3</td>\n",
       "      <td>881250949</td>\n",
       "    </tr>\n",
       "    <tr>\n",
       "      <th>1</th>\n",
       "      <td>186</td>\n",
       "      <td>302</td>\n",
       "      <td>3</td>\n",
       "      <td>891717742</td>\n",
       "    </tr>\n",
       "    <tr>\n",
       "      <th>2</th>\n",
       "      <td>22</td>\n",
       "      <td>377</td>\n",
       "      <td>1</td>\n",
       "      <td>878887116</td>\n",
       "    </tr>\n",
       "    <tr>\n",
       "      <th>3</th>\n",
       "      <td>244</td>\n",
       "      <td>51</td>\n",
       "      <td>2</td>\n",
       "      <td>880606923</td>\n",
       "    </tr>\n",
       "    <tr>\n",
       "      <th>4</th>\n",
       "      <td>166</td>\n",
       "      <td>346</td>\n",
       "      <td>1</td>\n",
       "      <td>886397596</td>\n",
       "    </tr>\n",
       "    <tr>\n",
       "      <th>...</th>\n",
       "      <td>...</td>\n",
       "      <td>...</td>\n",
       "      <td>...</td>\n",
       "      <td>...</td>\n",
       "    </tr>\n",
       "    <tr>\n",
       "      <th>99995</th>\n",
       "      <td>880</td>\n",
       "      <td>476</td>\n",
       "      <td>3</td>\n",
       "      <td>880175444</td>\n",
       "    </tr>\n",
       "    <tr>\n",
       "      <th>99996</th>\n",
       "      <td>716</td>\n",
       "      <td>204</td>\n",
       "      <td>5</td>\n",
       "      <td>879795543</td>\n",
       "    </tr>\n",
       "    <tr>\n",
       "      <th>99997</th>\n",
       "      <td>276</td>\n",
       "      <td>1090</td>\n",
       "      <td>1</td>\n",
       "      <td>874795795</td>\n",
       "    </tr>\n",
       "    <tr>\n",
       "      <th>99998</th>\n",
       "      <td>13</td>\n",
       "      <td>225</td>\n",
       "      <td>2</td>\n",
       "      <td>882399156</td>\n",
       "    </tr>\n",
       "    <tr>\n",
       "      <th>99999</th>\n",
       "      <td>12</td>\n",
       "      <td>203</td>\n",
       "      <td>3</td>\n",
       "      <td>879959583</td>\n",
       "    </tr>\n",
       "  </tbody>\n",
       "</table>\n",
       "<p>100000 rows × 4 columns</p>\n",
       "</div>"
      ],
      "text/plain": [
       "       user_id  item_id  rating  timestamp\n",
       "0          196      242       3  881250949\n",
       "1          186      302       3  891717742\n",
       "2           22      377       1  878887116\n",
       "3          244       51       2  880606923\n",
       "4          166      346       1  886397596\n",
       "...        ...      ...     ...        ...\n",
       "99995      880      476       3  880175444\n",
       "99996      716      204       5  879795543\n",
       "99997      276     1090       1  874795795\n",
       "99998       13      225       2  882399156\n",
       "99999       12      203       3  879959583\n",
       "\n",
       "[100000 rows x 4 columns]"
      ]
     },
     "execution_count": 65,
     "metadata": {},
     "output_type": "execute_result"
    }
   ],
   "source": [
    "data"
   ]
  },
  {
   "cell_type": "code",
   "execution_count": 84,
   "id": "f6405ab3-f81f-4893-a571-373be39209e8",
   "metadata": {},
   "outputs": [],
   "source": [
    "class MRS:\n",
    "    def __init__(self , data : pd.DataFrame , user_column : str , movie_column : str , rating_column : str , recommend_count : int = 10 , k_value : int = 5 , mode : str = \"user-based\") -> None:\n",
    "        if not all(col in data.columns for col in [user_column, movie_column, rating_column]):\n",
    "            raise ValueError(\"One or more specified columns not found in DataFrame\")\n",
    "        self.recommend_count : int = recommend_count\n",
    "        self.k_value : int = k_value\n",
    "        self.mode = mode\n",
    "        if self.mode == \"user-based\":\n",
    "            self.user_item_matrix = data.pivot_table(index=user_column , columns=movie_column , values=rating_column)\n",
    "        elif self.mode == \"item-based\":\n",
    "            self.user_item_matrix = data.pivot_table(index=movie_column , columns=user_column , values=rating_column)\n",
    "        else:\n",
    "            raise ValueError(\"mode must be 'user-based' or 'item-based'\")\n",
    "        self.__predicted = self.user_item_matrix.copy()\n",
    "        self.__predicted.fillna(0 , inplace=True)\n",
    "        self.__similarity = cosine_similarity(self.__predicted)\n",
    "        self.__similarity = pd.DataFrame(self.__similarity,index= self.__predicted.index, columns= self.__predicted.index)\n",
    "\n",
    "    def fit_svd(self, n_components: int = 20):\n",
    "        matrix = self.user_item_matrix.fillna(0).values\n",
    "        svd = TruncatedSVD(n_components=n_components, random_state=42)\n",
    "        U = svd.fit_transform(matrix)\n",
    "        Sigma = svd.singular_values_\n",
    "        VT = svd.components_\n",
    "        reconstructed = np.dot(U, VT)\n",
    "    \n",
    "        self.__predicted_svd = pd.DataFrame(\n",
    "            reconstructed,\n",
    "            index=self.user_item_matrix.index,\n",
    "            columns=self.user_item_matrix.columns\n",
    "        )\n",
    "    \n",
    "        print(f\"SVD fitted with {n_components} latent factors.\")\n",
    "\n",
    "    \n",
    "    def __knn(self ,user_id : int) -> Dict[str, np.ndarray]:\n",
    "        user_sim = self.__similarity.loc[user_id]\n",
    "        sorted_scores = user_sim.sort_values(ascending=False)\n",
    "        sorted_scores = sorted_scores.iloc[1:self.k_value+1]  \n",
    "        return {'index': sorted_scores.index.to_numpy(),\n",
    "                'values': sorted_scores.values}\n",
    "    \n",
    "    def __predict(self , user_id: int, col: int) -> float:\n",
    "        if self.mode == \"user-based\":\n",
    "            if pd.isna(self.user_item_matrix.loc[user_id, col]):\n",
    "                numerator = 0\n",
    "                denominator = 0\n",
    "                nn = self.__knn(user_id)\n",
    "                for idx,value in enumerate(nn['index']):\n",
    "                    if not pd.isna(self.user_item_matrix.loc[value, col]):\n",
    "                        numerator += self.user_item_matrix.loc[value, col] * nn['values'][idx]\n",
    "                        denominator += nn['values'][idx]\n",
    "                if denominator > 0:\n",
    "                    return numerator / denominator\n",
    "                else:\n",
    "                    return 0\n",
    "            else:\n",
    "                return self.user_item_matrix.loc[user_id, col]\n",
    "\n",
    "        elif self.mode == 'item-based':\n",
    "            if pd.isna(self.user_item_matrix.loc[col, user_id]):\n",
    "                numerator = 0\n",
    "                denominator = 0\n",
    "                nn = self.__knn(col)  \n",
    "                for idx, value in enumerate(nn['index']):\n",
    "                    if not pd.isna(self.user_item_matrix.loc[value, user_id]):\n",
    "                        numerator += self.user_item_matrix.loc[value, user_id] * nn['values'][idx]\n",
    "                        denominator += nn['values'][idx]\n",
    "                return numerator / denominator if denominator > 0 else 0\n",
    "            else:\n",
    "                return self.user_item_matrix.loc[col, user_id]\n",
    "\n",
    "    def recommend(self , user_id: int) -> Tuple[pd.Index, np.ndarray]:\n",
    "        if self.mode == \"user-based\":\n",
    "            if user_id not in self.user_item_matrix.index:\n",
    "                raise ValueError(f\"User {user_id} not found in data\")\n",
    "            unrated_movies = self.user_item_matrix.loc[user_id][self.user_item_matrix.loc[user_id].isna()].index\n",
    "            for movie in unrated_movies:\n",
    "                self.__predicted.loc[user_id,movie] = self.__predict(user_id, movie)\n",
    "            top_movies = self.__predicted.loc[user_id, unrated_movies].sort_values(ascending=False).head(self.recommend_count)\n",
    "            return top_movies.index, top_movies.values\n",
    "            \n",
    "        elif self.mode == 'item-based':\n",
    "            if user_id not in self.user_item_matrix.columns:\n",
    "                raise ValueError(f\"User {user_id} not found in data\")\n",
    "            unrated_movies = self.user_item_matrix[self.user_item_matrix[user_id].isna()].index\n",
    "            for movie in unrated_movies:\n",
    "                self.__predicted.loc[movie, user_id] = self.__predict(user_id, movie)\n",
    "            top_movies = self.__predicted.loc[unrated_movies, user_id].sort_values(ascending=False).head(self.recommend_count)\n",
    "            return top_movies.index, top_movies.values\n",
    "            \n",
    "    def recommend_svd(self, user_id: int, top_n: int = 10):\n",
    "        if not hasattr(self, '_MRS__predicted_svd'):\n",
    "            raise ValueError(\"SVD model not fitted. Call fit_svd() first.\")\n",
    "        user_ratings = self.user_item_matrix.loc[user_id]\n",
    "        unseen = user_ratings[user_ratings.isna()].index\n",
    "        preds = self.__predicted_svd.loc[user_id, unseen]\n",
    "        top_movies = preds.sort_values(ascending=False).head(top_n)\n",
    "        return top_movies.index, top_movies.values\n",
    "\n",
    "    def evaluate_svd(self, test_df: pd.DataFrame, n_components: int = 20, k: int = 10) -> float:\n",
    "        hits = 0\n",
    "        total = 0\n",
    "        self.fit_svd(n_components=n_components)\n",
    "        for user_id, group in test_df.groupby('user_id'):\n",
    "            if user_id not in self.user_item_matrix.index:\n",
    "                continue\n",
    "            recommended, _ = self.recommend_svd(user_id, top_n=k)\n",
    "            relevant = group[group['rating'] >= 3]['item_id'].values\n",
    "            hits += len(set(recommended).intersection(set(relevant)))\n",
    "            total += len(recommended)\n",
    "        return hits / total if total > 0 else 0\n",
    "\n",
    "    def evaluate(self, test_data: pd.DataFrame, k: int = 10) -> float:\n",
    "        precisions = []\n",
    "        for user_id in test_data['user_id'].unique():\n",
    "            if user_id not in self.user_item_matrix.index:\n",
    "                continue\n",
    "            recommended_items, _ = self.recommend(user_id)\n",
    "            actual_items = test_data[test_data['user_id'] == user_id]['item_id'].values\n",
    "            hits = len(set(recommended_items[:k]).intersection(set(actual_items)))\n",
    "            precisions.append(hits / k)\n",
    "        if len(precisions) == 0:\n",
    "            return 0.0\n",
    "        return sum(precisions) / len(precisions)\n"
   ]
  },
  {
   "cell_type": "code",
   "execution_count": 33,
   "id": "d6f8bcdd-f063-4e41-896f-cae1342222b2",
   "metadata": {},
   "outputs": [],
   "source": [
    "mrs = MRS(data,user_column='user_id',movie_column='item_id',rating_column='rating')"
   ]
  },
  {
   "cell_type": "code",
   "execution_count": 36,
   "id": "fdf49ab3-9547-43a3-a3ab-40b3e1dd633e",
   "metadata": {},
   "outputs": [
    {
     "data": {
      "text/plain": [
       "(Index([943, 512, 527, 302, 640], dtype='int64', name='item_id'),\n",
       " array([5., 5., 5., 5., 5.]))"
      ]
     },
     "execution_count": 36,
     "metadata": {},
     "output_type": "execute_result"
    }
   ],
   "source": [
    "mrs.recommend(1)"
   ]
  },
  {
   "cell_type": "code",
   "execution_count": 58,
   "id": "126336e3-b478-49d5-8e8c-1c2c56e68952",
   "metadata": {},
   "outputs": [],
   "source": [
    "train = pd.read_csv('ml-100k/u1.base',sep='\\t',names=columns)\n",
    "test = pd.read_csv('ml-100k/u1.test',sep='\\t',names=columns)"
   ]
  },
  {
   "cell_type": "code",
   "execution_count": 59,
   "id": "f306719c-5be4-47b7-acca-07f389861a98",
   "metadata": {},
   "outputs": [],
   "source": [
    "mrs = MRS(data = train,user_column='user_id',movie_column='item_id',rating_column='rating',mode = \"item-based\",recommend_count=10,k_value=1)"
   ]
  },
  {
   "cell_type": "code",
   "execution_count": 60,
   "id": "3bf023fb-2c10-4b95-a839-9c7f8a183afa",
   "metadata": {},
   "outputs": [
    {
     "data": {
      "text/plain": [
       "0.23028322440087146"
      ]
     },
     "execution_count": 60,
     "metadata": {},
     "output_type": "execute_result"
    }
   ],
   "source": [
    "mrs.evaluate(test)"
   ]
  },
  {
   "cell_type": "code",
   "execution_count": 61,
   "id": "80ce96f2-b500-4320-a3f7-a8a0891cfbd4",
   "metadata": {},
   "outputs": [],
   "source": [
    "mrs = MRS(data = train,user_column='user_id',movie_column='item_id',rating_column='rating',mode = \"user-based\",recommend_count=10,k_value=1)"
   ]
  },
  {
   "cell_type": "code",
   "execution_count": 62,
   "id": "18790d06-f05f-4109-b945-820d6f4e2f94",
   "metadata": {},
   "outputs": [
    {
     "data": {
      "text/plain": [
       "0.2586056644880174"
      ]
     },
     "execution_count": 62,
     "metadata": {},
     "output_type": "execute_result"
    }
   ],
   "source": [
    "mrs.evaluate(test)"
   ]
  },
  {
   "cell_type": "code",
   "execution_count": 112,
   "id": "b9cae77d-f165-4142-9be3-896114f8f54b",
   "metadata": {},
   "outputs": [],
   "source": [
    "mrs = MRS(data = train,user_column='user_id',movie_column='item_id',rating_column='rating',mode = \"user-based\",recommend_count=10,k_value=1)"
   ]
  },
  {
   "cell_type": "code",
   "execution_count": 113,
   "id": "92b669cc-3607-4cdd-9fbf-6f98d950ef90",
   "metadata": {},
   "outputs": [
    {
     "name": "stdout",
     "output_type": "stream",
     "text": [
      "SVD fitted with 40 latent factors.\n"
     ]
    },
    {
     "data": {
      "text/plain": [
       "(Index([174, 183, 423, 318, 100], dtype='int64', name='item_id'),\n",
       " array([2.95667371, 2.82274834, 2.64457909, 2.54274636, 2.33055542]))"
      ]
     },
     "execution_count": 113,
     "metadata": {},
     "output_type": "execute_result"
    }
   ],
   "source": [
    "mrs.fit_svd(n_components=40)\n",
    "mrs.recommend_svd(1,top_n = 5)"
   ]
  },
  {
   "cell_type": "code",
   "execution_count": 114,
   "id": "2e3812b5-31ad-4cc6-aac7-667584800dbd",
   "metadata": {},
   "outputs": [
    {
     "name": "stdout",
     "output_type": "stream",
     "text": [
      "SVD fitted with 20 latent factors.\n"
     ]
    },
    {
     "data": {
      "text/plain": [
       "0.5298474945533769"
      ]
     },
     "execution_count": 114,
     "metadata": {},
     "output_type": "execute_result"
    }
   ],
   "source": [
    "mrs.evaluate_svd(test, k = 5)"
   ]
  }
 ],
 "metadata": {
  "kernelspec": {
   "display_name": "Python 3 (ipykernel)",
   "language": "python",
   "name": "python3"
  },
  "language_info": {
   "codemirror_mode": {
    "name": "ipython",
    "version": 3
   },
   "file_extension": ".py",
   "mimetype": "text/x-python",
   "name": "python",
   "nbconvert_exporter": "python",
   "pygments_lexer": "ipython3",
   "version": "3.12.7"
  }
 },
 "nbformat": 4,
 "nbformat_minor": 5
}

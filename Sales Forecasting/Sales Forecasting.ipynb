{
 "cells": [
  {
   "cell_type": "code",
   "execution_count": 1,
   "id": "ddb5ea80-ebc4-4726-bc87-d5f7a2afe318",
   "metadata": {},
   "outputs": [],
   "source": [
    "import pandas as pd\n",
    "import matplotlib.pyplot as plt\n",
    "import numpy as np\n",
    "import matplotlib\n",
    "import matplotlib as mpl\n",
    "from statsmodels.tsa.seasonal import seasonal_decompose"
   ]
  },
  {
   "cell_type": "code",
   "execution_count": 2,
   "id": "6c077e95-2277-4065-9084-c55ea8c4f2f9",
   "metadata": {},
   "outputs": [],
   "source": [
    "try:\n",
    "    df_train = pd.read_csv(\"train.csv\")\n",
    "    df_features = pd.read_csv(\"features.csv\")\n",
    "    df_stores = pd.read_csv(\"stores.csv\")\n",
    "    df_test = pd.read_csv(\"test.csv\")\n",
    "except FileNotFoundError:\n",
    "    print(\"File not found ...\")\n",
    "    exit()"
   ]
  },
  {
   "cell_type": "code",
   "execution_count": 3,
   "id": "bc810c56-49c7-4ec9-91b5-41555b74f825",
   "metadata": {},
   "outputs": [],
   "source": [
    "data = pd.concat([df_train, df_test], ignore_index=True)"
   ]
  },
  {
   "cell_type": "code",
   "execution_count": 4,
   "id": "86b9596b-dbd9-4b23-aa8b-10fbcb8aeb3f",
   "metadata": {},
   "outputs": [],
   "source": [
    "data = pd.merge(data, df_stores, how='left', on='Store')\n",
    "data = pd.merge(data, df_features, how='left', on=['Store', 'Date', 'IsHoliday'])"
   ]
  },
  {
   "cell_type": "code",
   "execution_count": 5,
   "id": "ac7b5482-bbd3-491c-9be3-fceacc9b380e",
   "metadata": {},
   "outputs": [],
   "source": [
    "data['Date'] = pd.to_datetime(data['Date'])\n",
    "data = data.sort_values(by=['Store', 'Dept', 'Date']).reset_index(drop=True)"
   ]
  },
  {
   "cell_type": "code",
   "execution_count": 304,
   "id": "6cf429c7-1542-45ab-bf37-eff05ecb0c65",
   "metadata": {},
   "outputs": [],
   "source": [
    "train_df = data[data[\"Weekly_Sales\"].notna()].copy()\n",
    "val_df = data[data[\"Weekly_Sales\"].isna()].copy()"
   ]
  },
  {
   "cell_type": "code",
   "execution_count": 305,
   "id": "82055e1f-684b-4f8d-a756-f88faa01898b",
   "metadata": {},
   "outputs": [],
   "source": [
    "train_keys = set(zip(train_df['Store'], train_df['Dept']))\n",
    "val_keys = set(zip(val_df['Store'], val_df['Dept']))\n",
    "common_keys = train_keys & val_keys"
   ]
  },
  {
   "cell_type": "code",
   "execution_count": 306,
   "id": "4ae14bfc-c32c-4b72-ae70-9a4907d4ecb4",
   "metadata": {},
   "outputs": [],
   "source": [
    "train_df = train_df[train_df[['Store', 'Dept']].apply(tuple, axis=1).isin(common_keys)].copy()\n",
    "val_df = val_df[val_df[['Store', 'Dept']].apply(tuple, axis=1).isin(common_keys)].copy()"
   ]
  },
  {
   "cell_type": "code",
   "execution_count": 307,
   "id": "913b80ba-4812-47ec-a3eb-a99e513da76a",
   "metadata": {},
   "outputs": [],
   "source": [
    "full_df = pd.concat([train_df, val_df]).sort_values(by=['Store', 'Dept', 'Date']).reset_index(drop=True)"
   ]
  },
  {
   "cell_type": "markdown",
   "id": "f8a9c88a-d364-4965-aa65-80a35a7f1480",
   "metadata": {},
   "source": [
    "# Feature engineering"
   ]
  },
  {
   "cell_type": "code",
   "execution_count": 313,
   "id": "965e2e48-73e6-49cb-8e20-0a716bcbafc1",
   "metadata": {},
   "outputs": [],
   "source": [
    "for col in ['MarkDown1','MarkDown2','MarkDown3','MarkDown4','MarkDown5']:\n",
    "    full_df[col] = full_df[col].fillna(0)"
   ]
  },
  {
   "cell_type": "code",
   "execution_count": 314,
   "id": "a3917f9c-9c11-4c5e-983b-5d4aaf050542",
   "metadata": {},
   "outputs": [],
   "source": [
    "full_df['CPI'] = full_df.groupby('Store')['CPI'].transform(lambda x: x.fillna(x.median()))\n",
    "full_df['Unemployment'] = full_df.groupby('Store')['Unemployment'].transform(lambda x: x.fillna(x.median()))"
   ]
  },
  {
   "cell_type": "code",
   "execution_count": 315,
   "id": "6b92343c-b717-4a1c-a930-5a044ae8e2ba",
   "metadata": {},
   "outputs": [],
   "source": [
    "full_df[\"Type\"] = full_df[\"Type\"].map({\"A\": 1, \"B\": 2, \"C\": 3}).astype('int8')"
   ]
  },
  {
   "cell_type": "code",
   "execution_count": 262,
   "id": "61bc066d-2d36-4074-a698-f1b3f59ae1e7",
   "metadata": {},
   "outputs": [],
   "source": [
    "full_df['IsHoliday'] = full_df['IsHoliday'].astype('int8')"
   ]
  },
  {
   "cell_type": "code",
   "execution_count": 263,
   "id": "e0fbc0e8-ccee-4750-bfcf-6a8165ef15d4",
   "metadata": {},
   "outputs": [],
   "source": [
    "full_df['year'] = full_df['Date'].dt.year\n",
    "full_df['month'] = full_df['Date'].dt.month\n",
    "full_df['week'] = full_df['Date'].dt.isocalendar().week\n",
    "full_df['is_month_start'] = full_df['Date'].dt.is_month_start.astype(int)\n",
    "full_df['is_month_end'] = full_df['Date'].dt.is_month_end.astype(int)"
   ]
  },
  {
   "cell_type": "code",
   "execution_count": 264,
   "id": "03f49c49-1968-41bc-b6d0-c632e641ae62",
   "metadata": {},
   "outputs": [],
   "source": [
    "for lag in [1, 2, 3]:\n",
    "    full_df[f'Weekly_Sales_Lag_{lag}'] = (\n",
    "        full_df.groupby(['Store', 'Dept'])['Weekly_Sales'].shift(lag)\n",
    "    )\n",
    "\n",
    "for window in [4, 8]:\n",
    "    full_df[f'Weekly_Sales_Rolling_{window}'] = (\n",
    "        full_df.groupby(['Store', 'Dept'], group_keys=False)['Weekly_Sales']\n",
    "        .apply(lambda x: x.shift(1).rolling(window=window).mean())\n",
    "    )"
   ]
  },
  {
   "cell_type": "code",
   "execution_count": 271,
   "id": "d5655474-f7b3-47fd-a08b-4f844bc4ac06",
   "metadata": {},
   "outputs": [],
   "source": [
    "final_train = full_df[full_df[\"Weekly_Sales\"].notna()].reset_index(drop=True)\n",
    "final_val = full_df[full_df[\"Weekly_Sales\"].isna()].reset_index(drop=True)"
   ]
  },
  {
   "cell_type": "code",
   "execution_count": 272,
   "id": "dad862ba-9fbe-4eeb-829a-0b836b6a0e95",
   "metadata": {},
   "outputs": [],
   "source": [
    "final_train[\"Trend\"] = np.nan\n",
    "final_train[\"Seasonality\"] = np.nan\n",
    "\n",
    "for (store, dept), group in final_train.groupby([\"Store\", \"Dept\"]):\n",
    "    group = group.sort_values(\"Date\")\n",
    "    \n",
    "    group = group.dropna(subset=[\"Weekly_Sales\"])\n",
    "    \n",
    "    if len(group) < 104:\n",
    "        continue\n",
    "    \n",
    "    result = seasonal_decompose(\n",
    "        group[\"Weekly_Sales\"], \n",
    "        model='additive', \n",
    "        period=52, \n",
    "        extrapolate_trend='freq'\n",
    "    )\n",
    "\n",
    "    final_train.loc[group.index, \"Trend\"] = result.trend\n",
    "    final_train.loc[group.index, \"Seasonality\"] = result.seasonal\n"
   ]
  },
  {
   "cell_type": "code",
   "execution_count": 273,
   "id": "728d6456-c796-44af-a7a0-78bf89603651",
   "metadata": {},
   "outputs": [],
   "source": [
    "final_val[\"Trend\"] = np.nan\n",
    "final_val[\"Seasonality\"] = np.nan\n",
    "\n",
    "for (store, dept), group in final_val.groupby([\"Store\", \"Dept\"]):\n",
    "    group = group.sort_values(\"Date\")\n",
    "\n",
    "    train_group = final_train[(final_train[\"Store\"] == store) & (final_train[\"Dept\"] == dept)].sort_values(\"Date\")\n",
    "\n",
    "    if train_group[\"Trend\"].isna().all() or train_group[\"Seasonality\"].isna().all():\n",
    "        continue\n",
    "\n",
    "    last_trend = train_group[\"Trend\"].dropna().iloc[-4:].mean()\n",
    "\n",
    "    seasonal_pattern = train_group[\"Seasonality\"].dropna().iloc[-52:].values\n",
    "    seasonal_values = np.resize(seasonal_pattern, len(group)) \n",
    "\n",
    "    final_val.loc[group.index, \"Trend\"] = last_trend\n",
    "    final_val.loc[group.index, \"Seasonality\"] = seasonal_values\n"
   ]
  },
  {
   "cell_type": "code",
   "execution_count": 274,
   "id": "aa07391f-b32a-4bf2-83bc-470fe03e2ec6",
   "metadata": {},
   "outputs": [],
   "source": [
    "X_train = final_train.drop(columns=[\"Weekly_Sales\",\"Date\"]).dropna()\n",
    "Y_train = final_train.dropna()[\"Weekly_Sales\"]\n",
    "X_test = final_val.drop(columns=[\"Weekly_Sales\",\"Date\"])"
   ]
  },
  {
   "cell_type": "markdown",
   "id": "5b0251c3-7f76-408b-87d1-80ab6286dc38",
   "metadata": {},
   "source": [
    "# Modeling"
   ]
  },
  {
   "cell_type": "code",
   "execution_count": 276,
   "id": "d5f655e3-fa2c-4c25-be00-57f0f8062ed4",
   "metadata": {},
   "outputs": [],
   "source": [
    "from sklearn.linear_model import LinearRegression\n",
    "from sklearn.ensemble import RandomForestRegressor\n",
    "from sklearn.metrics import mean_absolute_error, mean_squared_error\n",
    "import numpy as np\n",
    "from xgboost import XGBRegressor\n",
    "from sklearn.model_selection import GridSearchCV\n",
    "from lightgbm import LGBMRegressor"
   ]
  },
  {
   "cell_type": "markdown",
   "id": "c866811a-f9b1-49c0-a003-153b6cadd18f",
   "metadata": {},
   "source": [
    "### linear regression"
   ]
  },
  {
   "cell_type": "code",
   "execution_count": 277,
   "id": "a45fb672-4a54-4227-aaee-49d5ecaccbb6",
   "metadata": {},
   "outputs": [],
   "source": [
    "model = LinearRegression().fit(X_train,Y_train)"
   ]
  },
  {
   "cell_type": "code",
   "execution_count": 278,
   "id": "2ae54fce-ee39-4245-a837-86f8830a116c",
   "metadata": {},
   "outputs": [
    {
     "data": {
      "text/plain": [
       "0.9908781452620035"
      ]
     },
     "execution_count": 278,
     "metadata": {},
     "output_type": "execute_result"
    }
   ],
   "source": [
    "model.score(X_train,Y_train)"
   ]
  },
  {
   "cell_type": "code",
   "execution_count": 279,
   "id": "71882dac-dfa4-4cfa-a7b7-7fb88b6da264",
   "metadata": {},
   "outputs": [
    {
     "name": "stdout",
     "output_type": "stream",
     "text": [
      "MAE: 951.7558215540591\n",
      "RMSE: 2191.430371562683\n"
     ]
    }
   ],
   "source": [
    "mae = mean_absolute_error(Y_train, model.predict(X_train))\n",
    "rmse = np.sqrt(mean_squared_error(Y_train, model.predict(X_train)))\n",
    "print(\"MAE:\", mae)\n",
    "print(\"RMSE:\", rmse)"
   ]
  },
  {
   "cell_type": "markdown",
   "id": "2018a3af-557e-466b-a9b9-3db354f87af0",
   "metadata": {},
   "source": [
    "### XGBoost "
   ]
  },
  {
   "cell_type": "code",
   "execution_count": 221,
   "id": "a5735827-e9a2-4fc0-b759-2711dce82aeb",
   "metadata": {},
   "outputs": [],
   "source": [
    "param_grid = {\n",
    "    'n_estimators' : [150,200,250],\n",
    "    'max_depth': [9, 7 , 8],\n",
    "    'learning_rate': [0.1 , 0.15 , 0.12 , 0.08],\n",
    "}"
   ]
  },
  {
   "cell_type": "code",
   "execution_count": null,
   "id": "ef2519e8-0cd7-4628-8be4-4047ee2e23d3",
   "metadata": {},
   "outputs": [],
   "source": [
    "xgb = XGBRegressor()\n",
    "grid = GridSearchCV(xgb, param_grid, cv=5, scoring='neg_root_mean_squared_error')\n",
    "grid.fit(X_train,Y_train)"
   ]
  },
  {
   "cell_type": "code",
   "execution_count": null,
   "id": "30194eb7-c5f0-4fc0-a2fd-2dc87c46be7c",
   "metadata": {},
   "outputs": [],
   "source": [
    "print(grid.best_params_)"
   ]
  },
  {
   "cell_type": "code",
   "execution_count": 281,
   "id": "20af3a6b-1949-403f-8262-adebf2d55162",
   "metadata": {},
   "outputs": [],
   "source": [
    "xgb = XGBRegressor(learning_rate = 0.15 , max_depth = 7 , n_estimators = 250).fit(X_train,Y_train)"
   ]
  },
  {
   "cell_type": "code",
   "execution_count": 282,
   "id": "d6d4d169-7303-4f09-9670-b4431ebc6896",
   "metadata": {},
   "outputs": [
    {
     "data": {
      "text/plain": [
       "0.9961820515069703"
      ]
     },
     "execution_count": 282,
     "metadata": {},
     "output_type": "execute_result"
    }
   ],
   "source": [
    "xgb.score(X_train, Y_train)"
   ]
  },
  {
   "cell_type": "code",
   "execution_count": 283,
   "id": "ced3921e-75be-4075-aef4-2f16887873fe",
   "metadata": {},
   "outputs": [
    {
     "name": "stdout",
     "output_type": "stream",
     "text": [
      "MAE: 774.1095020266938\n",
      "RMSE: 1417.7548215455972\n"
     ]
    }
   ],
   "source": [
    "Y_pred = xgb.predict(X_train)\n",
    "mae = mean_absolute_error(Y_train, Y_pred)\n",
    "rmse = np.sqrt(mean_squared_error(Y_train, Y_pred))\n",
    "print(\"MAE:\", mae)\n",
    "print(\"RMSE:\", rmse)"
   ]
  },
  {
   "cell_type": "markdown",
   "id": "e761e23e-857c-4955-bd15-7ded0a415bf3",
   "metadata": {},
   "source": [
    "### lightgbm"
   ]
  },
  {
   "cell_type": "code",
   "execution_count": 285,
   "id": "4c1605e1-a51f-4642-a6f3-4be85c1b25c1",
   "metadata": {},
   "outputs": [
    {
     "name": "stdout",
     "output_type": "stream",
     "text": [
      "[LightGBM] [Info] Auto-choosing row-wise multi-threading, the overhead of testing was 0.020890 seconds.\n",
      "You can set `force_row_wise=true` to remove the overhead.\n",
      "And if memory is not enough, you can set `force_col_wise=true`.\n",
      "[LightGBM] [Info] Total Bins 2522\n",
      "[LightGBM] [Info] Number of data points in the train set: 384041, number of used features: 19\n",
      "[LightGBM] [Info] Start training from score 16561.832257\n"
     ]
    }
   ],
   "source": [
    "lgb = LGBMRegressor(learning_rate = 0.15 , max_depth = -1 , n_estimators = 250).fit(X_train.drop(columns=[\"Seasonality\",\"Trend\",\"Weekly_Sales_Lag_1\", \"Weekly_Sales_Lag_2\", \"Weekly_Sales_Lag_3\", \"Weekly_Sales_Rolling_4\", \"Weekly_Sales_Rolling_8\"]),Y_train)"
   ]
  },
  {
   "cell_type": "code",
   "execution_count": 286,
   "id": "61296ecf-b329-4c5b-a159-95841efb6d00",
   "metadata": {},
   "outputs": [
    {
     "data": {
      "text/plain": [
       "0.9604910080782049"
      ]
     },
     "execution_count": 286,
     "metadata": {},
     "output_type": "execute_result"
    }
   ],
   "source": [
    "lgb.score(X_train.drop(columns=[\"Seasonality\",\"Trend\",\"Weekly_Sales_Lag_1\", \"Weekly_Sales_Lag_2\", \"Weekly_Sales_Lag_3\", \"Weekly_Sales_Rolling_4\", \"Weekly_Sales_Rolling_8\"]), Y_train)"
   ]
  },
  {
   "cell_type": "code",
   "execution_count": 287,
   "id": "87876bf6-1072-4792-b585-d9f00952c251",
   "metadata": {},
   "outputs": [
    {
     "name": "stdout",
     "output_type": "stream",
     "text": [
      "MAE: 2790.485582018313\n",
      "RMSE: 4560.726979825853\n"
     ]
    }
   ],
   "source": [
    "Y_pred = lgb.predict(X_train.drop(columns=[\"Seasonality\",\"Trend\",\"Weekly_Sales_Lag_1\", \"Weekly_Sales_Lag_2\", \"Weekly_Sales_Lag_3\", \"Weekly_Sales_Rolling_4\", \"Weekly_Sales_Rolling_8\"]))\n",
    "mae = mean_absolute_error(Y_train, Y_pred)\n",
    "rmse = np.sqrt(mean_squared_error(Y_train, Y_pred))\n",
    "print(\"MAE:\", mae)\n",
    "print(\"RMSE:\", rmse)"
   ]
  },
  {
   "cell_type": "code",
   "execution_count": 291,
   "id": "3fd7e834-d211-4177-a2ad-0740e4cd52c6",
   "metadata": {},
   "outputs": [],
   "source": [
    "def predict_sales(X):\n",
    "    lag_cols = [\"Weekly_Sales_Lag_1\",\"Weekly_Sales_Lag_2\",\"Weekly_Sales_Lag_3\",\"Weekly_Sales_Rolling_4\",\"Weekly_Sales_Rolling_8\",\"Seasonality\",\"Trend\"]\n",
    "\n",
    "    no_lag_idx = X[X[lag_cols].isna().any(axis=1)].index\n",
    "    lag_idx = X.drop(index=no_lag_idx).index\n",
    "\n",
    "    preds = pd.Series(index=X.index, dtype='float64')\n",
    "\n",
    "    if len(lag_idx) > 0:\n",
    "        preds.loc[lag_idx] = xgb.predict(X.loc[lag_idx])\n",
    "\n",
    "    if len(no_lag_idx) > 0:\n",
    "        X_no_lag = X.drop(columns=lag_cols).loc[no_lag_idx]\n",
    "        preds.loc[no_lag_idx] = lgb.predict(X_no_lag)\n",
    "\n",
    "    return preds"
   ]
  },
  {
   "cell_type": "code",
   "execution_count": 292,
   "id": "8227c704-d3e9-4bd6-a8d4-f38018fbd5f8",
   "metadata": {},
   "outputs": [],
   "source": [
    "submission = pd.DataFrame({\n",
    "    'Weekly_Sales': predict_sales(X_test)\n",
    "})\n",
    "submission.to_csv('submission.csv', index=True)"
   ]
  },
  {
   "cell_type": "code",
   "execution_count": 235,
   "id": "f67cccfb-74e7-452c-b739-643f4ad93d2c",
   "metadata": {},
   "outputs": [],
   "source": [
    "predicted = xgb.predict(X_train)"
   ]
  },
  {
   "cell_type": "code",
   "execution_count": 236,
   "id": "dcf331c3-d09d-419c-bbf0-bc58890361cb",
   "metadata": {},
   "outputs": [],
   "source": [
    "df = pd.DataFrame({\"Date\" : final_train.dropna()['Date'] ,\n",
    "                  \"Actual\" : final_train.dropna()['Weekly_Sales'],\n",
    "                  \"predicted\" : predicted})"
   ]
  },
  {
   "cell_type": "code",
   "execution_count": 237,
   "id": "eb6d7725-a421-4b26-9113-5bf96b777b3b",
   "metadata": {},
   "outputs": [],
   "source": [
    "a = df[['Date','Actual']].groupby(\"Date\").sum().reset_index()['Actual']\n",
    "d = df[['Date','Actual']].groupby(\"Date\").sum().reset_index()['Date']\n",
    "p = df[['Date','predicted']].groupby(\"Date\").sum().reset_index()['predicted']"
   ]
  },
  {
   "cell_type": "code",
   "execution_count": 238,
   "id": "2c872953-4e43-4639-b121-d0f341c2b012",
   "metadata": {},
   "outputs": [
    {
     "data": {
      "image/png": "[encoded data removed]",
      "text/plain": [
       "<Figure size 1400x600 with 1 Axes>"
      ]
     },
     "metadata": {},
     "output_type": "display_data"
    }
   ],
   "source": [
    "plt.figure(figsize=(14,6))\n",
    "plt.plot(d, a, label='Actual', linewidth=2)\n",
    "plt.plot(d, p, label='Predicted', linewidth=2)\n",
    "plt.xlabel('Date')\n",
    "plt.ylabel('Weekly Sales')\n",
    "plt.title('Actual vs Predicted Sales')\n",
    "plt.legend()\n",
    "plt.grid(True)\n",
    "plt.show()"
   ]
  }
 ],
 "metadata": {
  "kernelspec": {
   "display_name": "Python 3 (ipykernel)",
   "language": "python",
   "name": "python3"
  },
  "language_info": {
   "codemirror_mode": {
    "name": "ipython",
    "version": 3
   },
   "file_extension": ".py",
   "mimetype": "text/x-python",
   "name": "python",
   "nbconvert_exporter": "python",
   "pygments_lexer": "ipython3",
   "version": "3.12.7"
  }
 },
 "nbformat": 4,
 "nbformat_minor": 5
}

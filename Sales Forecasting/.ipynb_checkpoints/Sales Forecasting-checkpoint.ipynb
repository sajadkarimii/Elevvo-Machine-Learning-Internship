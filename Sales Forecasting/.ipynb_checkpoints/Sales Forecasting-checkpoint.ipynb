{
 "cells": [
  {
   "cell_type": "code",
   "execution_count": 1,
   "id": "ddb5ea80-ebc4-4726-bc87-d5f7a2afe318",
   "metadata": {},
   "outputs": [],
   "source": [
    "import pandas as pd\n",
    "import matplotlib.pyplot as plt\n",
    "import numpy as np\n",
    "import matplotlib\n",
    "import matplotlib as mpl\n",
    "from statsmodels.tsa.seasonal import seasonal_decompose"
   ]
  },
  {
   "cell_type": "code",
   "execution_count": 2,
   "id": "6c077e95-2277-4065-9084-c55ea8c4f2f9",
   "metadata": {},
   "outputs": [],
   "source": [
    "df_train = pd.read_csv(\"train.csv\")\n",
    "df_features = pd.read_csv(\"features.csv\")\n",
    "df_stores = pd.read_csv(\"stores.csv\")\n",
    "df_test = pd.read_csv(\"test.csv\")"
   ]
  },
  {
   "cell_type": "code",
   "execution_count": 3,
   "id": "bc810c56-49c7-4ec9-91b5-41555b74f825",
   "metadata": {},
   "outputs": [],
   "source": [
    "df_train = pd.concat([df_train, df_test], ignore_index=True)"
   ]
  },
  {
   "cell_type": "code",
   "execution_count": 4,
   "id": "c2ba7502-a056-4cf3-b845-0ea6fdfb297c",
   "metadata": {},
   "outputs": [],
   "source": [
    "data = df_train.merge(df_features,on=[\"Date\",\"Store\"])"
   ]
  },
  {
   "cell_type": "code",
   "execution_count": 5,
   "id": "84c208e8-10d2-4e9d-8c75-1690efb86171",
   "metadata": {},
   "outputs": [],
   "source": [
    "data = data.merge(df_stores,on=\"Store\")"
   ]
  },
  {
   "cell_type": "code",
   "execution_count": 6,
   "id": "11eeab43-09bb-4dcf-9bee-003dd4f6d01a",
   "metadata": {},
   "outputs": [],
   "source": [
    "for col in ['MarkDown1','MarkDown2','MarkDown3','MarkDown4','MarkDown5']:\n",
    "    data[col] = data[col].fillna(0)"
   ]
  },
  {
   "cell_type": "code",
   "execution_count": 7,
   "id": "30a9b92e-60f2-405c-9372-234dfdf8f258",
   "metadata": {},
   "outputs": [],
   "source": [
    "data[\"Date\"] = pd.to_datetime(data[\"Date\"])"
   ]
  },
  {
   "cell_type": "code",
   "execution_count": 8,
   "id": "5a2f9b02-c9f2-4bcf-a797-c6720520a498",
   "metadata": {},
   "outputs": [
    {
     "data": {
      "text/plain": [
       "True"
      ]
     },
     "execution_count": 8,
     "metadata": {},
     "output_type": "execute_result"
    }
   ],
   "source": [
    "(data['IsHoliday_x'] == data['IsHoliday_y']).all()"
   ]
  },
  {
   "cell_type": "code",
   "execution_count": 9,
   "id": "5af53f1d-ee31-42aa-8213-7aa8bd79399e",
   "metadata": {},
   "outputs": [],
   "source": [
    "data = data.drop(columns=['IsHoliday_y'])\n",
    "data = data.rename(columns={'IsHoliday_x':'IsHoliday'})"
   ]
  },
  {
   "cell_type": "code",
   "execution_count": 10,
   "id": "bd94878a-49f5-4d75-aa83-ffa729f8322f",
   "metadata": {},
   "outputs": [
    {
     "name": "stderr",
     "output_type": "stream",
     "text": [
      "C:\\Users\\sajad\\AppData\\Local\\Temp\\ipykernel_8680\\81322491.py:1: FutureWarning: ChainedAssignmentError: behaviour will change in pandas 3.0!\n",
      "You are setting values through chained assignment. Currently this works in certain cases, but when using Copy-on-Write (which will become the default behaviour in pandas 3.0) this will never work to update the original DataFrame or Series, because the intermediate object on which we are setting values will behave as a copy.\n",
      "A typical example is when you are setting values in a column of a DataFrame, like:\n",
      "\n",
      "df[\"col\"][row_indexer] = value\n",
      "\n",
      "Use `df.loc[row_indexer, \"col\"] = values` instead, to perform the assignment in a single step and ensure this keeps updating the original `df`.\n",
      "\n",
      "See the caveats in the documentation: https://pandas.pydata.org/pandas-docs/stable/user_guide/indexing.html#returning-a-view-versus-a-copy\n",
      "\n",
      "  data[\"Type\"][data[\"Type\"]==\"A\"] = 1\n",
      "C:\\Users\\sajad\\AppData\\Local\\Temp\\ipykernel_8680\\81322491.py:1: SettingWithCopyWarning: \n",
      "A value is trying to be set on a copy of a slice from a DataFrame\n",
      "\n",
      "See the caveats in the documentation: https://pandas.pydata.org/pandas-docs/stable/user_guide/indexing.html#returning-a-view-versus-a-copy\n",
      "  data[\"Type\"][data[\"Type\"]==\"A\"] = 1\n",
      "C:\\Users\\sajad\\AppData\\Local\\Temp\\ipykernel_8680\\81322491.py:2: FutureWarning: ChainedAssignmentError: behaviour will change in pandas 3.0!\n",
      "You are setting values through chained assignment. Currently this works in certain cases, but when using Copy-on-Write (which will become the default behaviour in pandas 3.0) this will never work to update the original DataFrame or Series, because the intermediate object on which we are setting values will behave as a copy.\n",
      "A typical example is when you are setting values in a column of a DataFrame, like:\n",
      "\n",
      "df[\"col\"][row_indexer] = value\n",
      "\n",
      "Use `df.loc[row_indexer, \"col\"] = values` instead, to perform the assignment in a single step and ensure this keeps updating the original `df`.\n",
      "\n",
      "See the caveats in the documentation: https://pandas.pydata.org/pandas-docs/stable/user_guide/indexing.html#returning-a-view-versus-a-copy\n",
      "\n",
      "  data[\"Type\"][data[\"Type\"]==\"B\"] = 2\n",
      "C:\\Users\\sajad\\AppData\\Local\\Temp\\ipykernel_8680\\81322491.py:2: SettingWithCopyWarning: \n",
      "A value is trying to be set on a copy of a slice from a DataFrame\n",
      "\n",
      "See the caveats in the documentation: https://pandas.pydata.org/pandas-docs/stable/user_guide/indexing.html#returning-a-view-versus-a-copy\n",
      "  data[\"Type\"][data[\"Type\"]==\"B\"] = 2\n",
      "C:\\Users\\sajad\\AppData\\Local\\Temp\\ipykernel_8680\\81322491.py:3: FutureWarning: ChainedAssignmentError: behaviour will change in pandas 3.0!\n",
      "You are setting values through chained assignment. Currently this works in certain cases, but when using Copy-on-Write (which will become the default behaviour in pandas 3.0) this will never work to update the original DataFrame or Series, because the intermediate object on which we are setting values will behave as a copy.\n",
      "A typical example is when you are setting values in a column of a DataFrame, like:\n",
      "\n",
      "df[\"col\"][row_indexer] = value\n",
      "\n",
      "Use `df.loc[row_indexer, \"col\"] = values` instead, to perform the assignment in a single step and ensure this keeps updating the original `df`.\n",
      "\n",
      "See the caveats in the documentation: https://pandas.pydata.org/pandas-docs/stable/user_guide/indexing.html#returning-a-view-versus-a-copy\n",
      "\n",
      "  data[\"Type\"][data[\"Type\"]==\"C\"] = 3\n",
      "C:\\Users\\sajad\\AppData\\Local\\Temp\\ipykernel_8680\\81322491.py:3: SettingWithCopyWarning: \n",
      "A value is trying to be set on a copy of a slice from a DataFrame\n",
      "\n",
      "See the caveats in the documentation: https://pandas.pydata.org/pandas-docs/stable/user_guide/indexing.html#returning-a-view-versus-a-copy\n",
      "  data[\"Type\"][data[\"Type\"]==\"C\"] = 3\n"
     ]
    }
   ],
   "source": [
    "data[\"Type\"][data[\"Type\"]==\"A\"] = 1\n",
    "data[\"Type\"][data[\"Type\"]==\"B\"] = 2\n",
    "data[\"Type\"][data[\"Type\"]==\"C\"] = 3"
   ]
  },
  {
   "cell_type": "code",
   "execution_count": 11,
   "id": "69a2ff3f-065a-4105-8f9c-3bd0c4f22e5e",
   "metadata": {},
   "outputs": [],
   "source": [
    "data[\"Type\"] = data[\"Type\"].astype('int8')"
   ]
  },
  {
   "cell_type": "markdown",
   "id": "56cedd2d-0091-477a-a2f3-d89f408881de",
   "metadata": {},
   "source": [
    "# EDA"
   ]
  },
  {
   "cell_type": "code",
   "execution_count": 12,
   "id": "358103c3-0ea3-4f3a-a207-4a8333f61712",
   "metadata": {},
   "outputs": [
    {
     "name": "stdout",
     "output_type": "stream",
     "text": [
      "<class 'pandas.core.frame.DataFrame'>\n",
      "RangeIndex: 536634 entries, 0 to 536633\n",
      "Data columns (total 16 columns):\n",
      " #   Column        Non-Null Count   Dtype         \n",
      "---  ------        --------------   -----         \n",
      " 0   Store         536634 non-null  int64         \n",
      " 1   Dept          536634 non-null  int64         \n",
      " 2   Date          536634 non-null  datetime64[ns]\n",
      " 3   Weekly_Sales  421570 non-null  float64       \n",
      " 4   IsHoliday     536634 non-null  bool          \n",
      " 5   Temperature   536634 non-null  float64       \n",
      " 6   Fuel_Price    536634 non-null  float64       \n",
      " 7   MarkDown1     536634 non-null  float64       \n",
      " 8   MarkDown2     536634 non-null  float64       \n",
      " 9   MarkDown3     536634 non-null  float64       \n",
      " 10  MarkDown4     536634 non-null  float64       \n",
      " 11  MarkDown5     536634 non-null  float64       \n",
      " 12  CPI           498472 non-null  float64       \n",
      " 13  Unemployment  498472 non-null  float64       \n",
      " 14  Type          536634 non-null  int8          \n",
      " 15  Size          536634 non-null  int64         \n",
      "dtypes: bool(1), datetime64[ns](1), float64(10), int64(3), int8(1)\n",
      "memory usage: 58.3 MB\n"
     ]
    }
   ],
   "source": [
    "data.info()"
   ]
  },
  {
   "cell_type": "code",
   "execution_count": 13,
   "id": "e824b7ea-43a9-4644-8b07-7ac59236805a",
   "metadata": {},
   "outputs": [
    {
     "data": {
      "text/html": [
       "<div>\n",
       "<style scoped>\n",
       "    .dataframe tbody tr th:only-of-type {\n",
       "        vertical-align: middle;\n",
       "    }\n",
       "\n",
       "    .dataframe tbody tr th {\n",
       "        vertical-align: top;\n",
       "    }\n",
       "\n",
       "    .dataframe thead th {\n",
       "        text-align: right;\n",
       "    }\n",
       "</style>\n",
       "<table border=\"1\" class=\"dataframe\">\n",
       "  <thead>\n",
       "    <tr style=\"text-align: right;\">\n",
       "      <th></th>\n",
       "      <th>Store</th>\n",
       "      <th>Dept</th>\n",
       "      <th>Date</th>\n",
       "      <th>Weekly_Sales</th>\n",
       "      <th>Temperature</th>\n",
       "      <th>Fuel_Price</th>\n",
       "      <th>MarkDown1</th>\n",
       "      <th>MarkDown2</th>\n",
       "      <th>MarkDown3</th>\n",
       "      <th>MarkDown4</th>\n",
       "      <th>MarkDown5</th>\n",
       "      <th>CPI</th>\n",
       "      <th>Unemployment</th>\n",
       "      <th>Type</th>\n",
       "      <th>Size</th>\n",
       "    </tr>\n",
       "  </thead>\n",
       "  <tbody>\n",
       "    <tr>\n",
       "      <th>count</th>\n",
       "      <td>536634.000000</td>\n",
       "      <td>536634.000000</td>\n",
       "      <td>536634</td>\n",
       "      <td>421570.000000</td>\n",
       "      <td>536634.000000</td>\n",
       "      <td>536634.000000</td>\n",
       "      <td>536634.000000</td>\n",
       "      <td>536634.000000</td>\n",
       "      <td>536634.000000</td>\n",
       "      <td>536634.000000</td>\n",
       "      <td>536634.000000</td>\n",
       "      <td>498472.000000</td>\n",
       "      <td>498472.000000</td>\n",
       "      <td>536634.000000</td>\n",
       "      <td>536634.000000</td>\n",
       "    </tr>\n",
       "    <tr>\n",
       "      <th>mean</th>\n",
       "      <td>22.208621</td>\n",
       "      <td>44.277301</td>\n",
       "      <td>2011-11-01 13:33:31.458089216</td>\n",
       "      <td>15981.258123</td>\n",
       "      <td>58.771762</td>\n",
       "      <td>3.408310</td>\n",
       "      <td>3681.287709</td>\n",
       "      <td>1292.745138</td>\n",
       "      <td>838.971725</td>\n",
       "      <td>1489.918846</td>\n",
       "      <td>2147.337557</td>\n",
       "      <td>172.090481</td>\n",
       "      <td>7.791888</td>\n",
       "      <td>1.590516</td>\n",
       "      <td>136678.550960</td>\n",
       "    </tr>\n",
       "    <tr>\n",
       "      <th>min</th>\n",
       "      <td>1.000000</td>\n",
       "      <td>1.000000</td>\n",
       "      <td>2010-02-05 00:00:00</td>\n",
       "      <td>-4988.940000</td>\n",
       "      <td>-7.290000</td>\n",
       "      <td>2.472000</td>\n",
       "      <td>-2781.450000</td>\n",
       "      <td>-265.760000</td>\n",
       "      <td>-179.260000</td>\n",
       "      <td>0.000000</td>\n",
       "      <td>-185.170000</td>\n",
       "      <td>126.064000</td>\n",
       "      <td>3.684000</td>\n",
       "      <td>1.000000</td>\n",
       "      <td>34875.000000</td>\n",
       "    </tr>\n",
       "    <tr>\n",
       "      <th>25%</th>\n",
       "      <td>11.000000</td>\n",
       "      <td>18.000000</td>\n",
       "      <td>2010-12-17 00:00:00</td>\n",
       "      <td>2079.650000</td>\n",
       "      <td>45.250000</td>\n",
       "      <td>3.041000</td>\n",
       "      <td>0.000000</td>\n",
       "      <td>0.000000</td>\n",
       "      <td>0.000000</td>\n",
       "      <td>0.000000</td>\n",
       "      <td>0.000000</td>\n",
       "      <td>132.521867</td>\n",
       "      <td>6.623000</td>\n",
       "      <td>1.000000</td>\n",
       "      <td>93638.000000</td>\n",
       "    </tr>\n",
       "    <tr>\n",
       "      <th>50%</th>\n",
       "      <td>22.000000</td>\n",
       "      <td>37.000000</td>\n",
       "      <td>2011-11-04 00:00:00</td>\n",
       "      <td>7612.030000</td>\n",
       "      <td>60.060000</td>\n",
       "      <td>3.523000</td>\n",
       "      <td>0.000000</td>\n",
       "      <td>0.000000</td>\n",
       "      <td>0.000000</td>\n",
       "      <td>0.000000</td>\n",
       "      <td>0.000000</td>\n",
       "      <td>182.442420</td>\n",
       "      <td>7.795000</td>\n",
       "      <td>1.000000</td>\n",
       "      <td>140167.000000</td>\n",
       "    </tr>\n",
       "    <tr>\n",
       "      <th>75%</th>\n",
       "      <td>33.000000</td>\n",
       "      <td>74.000000</td>\n",
       "      <td>2012-09-14 00:00:00</td>\n",
       "      <td>20205.852500</td>\n",
       "      <td>73.230000</td>\n",
       "      <td>3.744000</td>\n",
       "      <td>5046.740000</td>\n",
       "      <td>118.730000</td>\n",
       "      <td>29.140000</td>\n",
       "      <td>906.450000</td>\n",
       "      <td>2852.190000</td>\n",
       "      <td>213.748126</td>\n",
       "      <td>8.549000</td>\n",
       "      <td>2.000000</td>\n",
       "      <td>202505.000000</td>\n",
       "    </tr>\n",
       "    <tr>\n",
       "      <th>max</th>\n",
       "      <td>45.000000</td>\n",
       "      <td>99.000000</td>\n",
       "      <td>2013-07-26 00:00:00</td>\n",
       "      <td>693099.360000</td>\n",
       "      <td>101.950000</td>\n",
       "      <td>4.468000</td>\n",
       "      <td>103184.980000</td>\n",
       "      <td>104519.540000</td>\n",
       "      <td>149483.310000</td>\n",
       "      <td>67474.850000</td>\n",
       "      <td>771448.100000</td>\n",
       "      <td>228.976456</td>\n",
       "      <td>14.313000</td>\n",
       "      <td>3.000000</td>\n",
       "      <td>219622.000000</td>\n",
       "    </tr>\n",
       "    <tr>\n",
       "      <th>std</th>\n",
       "      <td>12.790580</td>\n",
       "      <td>30.527358</td>\n",
       "      <td>NaN</td>\n",
       "      <td>22711.183519</td>\n",
       "      <td>18.678716</td>\n",
       "      <td>0.430861</td>\n",
       "      <td>7593.883000</td>\n",
       "      <td>5714.136207</td>\n",
       "      <td>7860.456173</td>\n",
       "      <td>4865.593575</td>\n",
       "      <td>9789.902903</td>\n",
       "      <td>39.542149</td>\n",
       "      <td>1.865076</td>\n",
       "      <td>0.666882</td>\n",
       "      <td>61007.711799</td>\n",
       "    </tr>\n",
       "  </tbody>\n",
       "</table>\n",
       "</div>"
      ],
      "text/plain": [
       "               Store           Dept                           Date  \\\n",
       "count  536634.000000  536634.000000                         536634   \n",
       "mean       22.208621      44.277301  2011-11-01 13:33:31.458089216   \n",
       "min         1.000000       1.000000            2010-02-05 00:00:00   \n",
       "25%        11.000000      18.000000            2010-12-17 00:00:00   \n",
       "50%        22.000000      37.000000            2011-11-04 00:00:00   \n",
       "75%        33.000000      74.000000            2012-09-14 00:00:00   \n",
       "max        45.000000      99.000000            2013-07-26 00:00:00   \n",
       "std        12.790580      30.527358                            NaN   \n",
       "\n",
       "        Weekly_Sales    Temperature     Fuel_Price      MarkDown1  \\\n",
       "count  421570.000000  536634.000000  536634.000000  536634.000000   \n",
       "mean    15981.258123      58.771762       3.408310    3681.287709   \n",
       "min     -4988.940000      -7.290000       2.472000   -2781.450000   \n",
       "25%      2079.650000      45.250000       3.041000       0.000000   \n",
       "50%      7612.030000      60.060000       3.523000       0.000000   \n",
       "75%     20205.852500      73.230000       3.744000    5046.740000   \n",
       "max    693099.360000     101.950000       4.468000  103184.980000   \n",
       "std     22711.183519      18.678716       0.430861    7593.883000   \n",
       "\n",
       "           MarkDown2      MarkDown3      MarkDown4      MarkDown5  \\\n",
       "count  536634.000000  536634.000000  536634.000000  536634.000000   \n",
       "mean     1292.745138     838.971725    1489.918846    2147.337557   \n",
       "min      -265.760000    -179.260000       0.000000    -185.170000   \n",
       "25%         0.000000       0.000000       0.000000       0.000000   \n",
       "50%         0.000000       0.000000       0.000000       0.000000   \n",
       "75%       118.730000      29.140000     906.450000    2852.190000   \n",
       "max    104519.540000  149483.310000   67474.850000  771448.100000   \n",
       "std      5714.136207    7860.456173    4865.593575    9789.902903   \n",
       "\n",
       "                 CPI   Unemployment           Type           Size  \n",
       "count  498472.000000  498472.000000  536634.000000  536634.000000  \n",
       "mean      172.090481       7.791888       1.590516  136678.550960  \n",
       "min       126.064000       3.684000       1.000000   34875.000000  \n",
       "25%       132.521867       6.623000       1.000000   93638.000000  \n",
       "50%       182.442420       7.795000       1.000000  140167.000000  \n",
       "75%       213.748126       8.549000       2.000000  202505.000000  \n",
       "max       228.976456      14.313000       3.000000  219622.000000  \n",
       "std        39.542149       1.865076       0.666882   61007.711799  "
      ]
     },
     "execution_count": 13,
     "metadata": {},
     "output_type": "execute_result"
    }
   ],
   "source": [
    "data.describe()"
   ]
  },
  {
   "cell_type": "code",
   "execution_count": 14,
   "id": "8d945928-75c8-42a1-ab7c-6daac5423cd2",
   "metadata": {},
   "outputs": [
    {
     "data": {
      "text/plain": [
       "<Axes: xlabel='Date'>"
      ]
     },
     "execution_count": 14,
     "metadata": {},
     "output_type": "execute_result"
    },
    {
     "data": {
      "image/png": "[encoded data removed]",
      "text/plain": [
       "<Figure size 640x480 with 1 Axes>"
      ]
     },
     "metadata": {},
     "output_type": "display_data"
    }
   ],
   "source": [
    "data[[\"Date\",\"Weekly_Sales\"]][data[\"Weekly_Sales\"].notna()].groupby(\"Date\").sum().reset_index().plot(\"Date\",\"Weekly_Sales\",kind='line')"
   ]
  },
  {
   "cell_type": "code",
   "execution_count": 15,
   "id": "78597d59-bfdd-4e10-a75c-d59851e647ba",
   "metadata": {},
   "outputs": [
    {
     "data": {
      "text/plain": [
       "<Axes: xlabel='Store'>"
      ]
     },
     "execution_count": 15,
     "metadata": {},
     "output_type": "execute_result"
    },
    {
     "data": {
      "image/png": "[encoded data removed]",
      "text/plain": [
       "<Figure size 640x480 with 1 Axes>"
      ]
     },
     "metadata": {},
     "output_type": "display_data"
    }
   ],
   "source": [
    "data[[\"Store\",\"Weekly_Sales\"]][data[\"Weekly_Sales\"].notna()].groupby(\"Store\").sum().reset_index().plot(\"Store\",\"Weekly_Sales\",kind='bar')"
   ]
  },
  {
   "cell_type": "code",
   "execution_count": 16,
   "id": "51af20d1-5939-4fd5-9b4c-a29d8aa121e5",
   "metadata": {},
   "outputs": [
    {
     "data": {
      "text/plain": [
       "<Axes: xlabel='IsHoliday'>"
      ]
     },
     "execution_count": 16,
     "metadata": {},
     "output_type": "execute_result"
    },
    {
     "data": {
      "image/png": "[encoded data removed]",
      "text/plain": [
       "<Figure size 640x480 with 1 Axes>"
      ]
     },
     "metadata": {},
     "output_type": "display_data"
    }
   ],
   "source": [
    "data[[\"IsHoliday\",\"Weekly_Sales\"]][data[\"Weekly_Sales\"].notna()].groupby('IsHoliday').mean().reset_index().plot(\"IsHoliday\",\"Weekly_Sales\",kind='bar')"
   ]
  },
  {
   "cell_type": "code",
   "execution_count": 17,
   "id": "1081d72d-0752-4b1b-89ce-50b7a3970276",
   "metadata": {},
   "outputs": [
    {
     "data": {
      "image/png": "[encoded data removed]",
      "text/plain": [
       "<Figure size 1200x1000 with 2 Axes>"
      ]
     },
     "metadata": {},
     "output_type": "display_data"
    }
   ],
   "source": [
    "plt.figure(figsize=(12, 10))\n",
    "\n",
    "im = plt.imshow(data[data[\"Weekly_Sales\"].notna()].corr(), cmap='PiYG', vmin=-1, vmax=1)\n",
    "plt.colorbar(im)\n",
    "\n",
    "variables = data.corr().columns.tolist()\n",
    "plt.xticks(range(len(data[data[\"Weekly_Sales\"].notna()].corr())), variables, rotation=45, ha='right')\n",
    "plt.yticks(range(len(data[data[\"Weekly_Sales\"].notna()].corr())), variables)\n",
    "\n",
    "plt.title('Correlation Matrix with Positive/Negative Colors')\n",
    "plt.tight_layout()\n",
    "plt.show()"
   ]
  },
  {
   "cell_type": "code",
   "execution_count": 18,
   "id": "037aa498-9cf2-41b6-b8c7-8e7f505ff62a",
   "metadata": {
    "scrolled": true
   },
   "outputs": [
    {
     "data": {
      "text/html": [
       "<div>\n",
       "<style scoped>\n",
       "    .dataframe tbody tr th:only-of-type {\n",
       "        vertical-align: middle;\n",
       "    }\n",
       "\n",
       "    .dataframe tbody tr th {\n",
       "        vertical-align: top;\n",
       "    }\n",
       "\n",
       "    .dataframe thead th {\n",
       "        text-align: right;\n",
       "    }\n",
       "</style>\n",
       "<table border=\"1\" class=\"dataframe\">\n",
       "  <thead>\n",
       "    <tr style=\"text-align: right;\">\n",
       "      <th></th>\n",
       "      <th>Store</th>\n",
       "      <th>Dept</th>\n",
       "      <th>Date</th>\n",
       "      <th>Weekly_Sales</th>\n",
       "      <th>IsHoliday</th>\n",
       "      <th>Temperature</th>\n",
       "      <th>Fuel_Price</th>\n",
       "      <th>MarkDown1</th>\n",
       "      <th>MarkDown2</th>\n",
       "      <th>MarkDown3</th>\n",
       "      <th>MarkDown4</th>\n",
       "      <th>MarkDown5</th>\n",
       "      <th>CPI</th>\n",
       "      <th>Unemployment</th>\n",
       "      <th>Type</th>\n",
       "      <th>Size</th>\n",
       "    </tr>\n",
       "  </thead>\n",
       "  <tbody>\n",
       "    <tr>\n",
       "      <th>Store</th>\n",
       "      <td>1.000000</td>\n",
       "      <td>0.024004</td>\n",
       "      <td>0.003362</td>\n",
       "      <td>-0.085195</td>\n",
       "      <td>-0.000548</td>\n",
       "      <td>-0.050097</td>\n",
       "      <td>0.065290</td>\n",
       "      <td>-0.059844</td>\n",
       "      <td>-0.033829</td>\n",
       "      <td>-0.020331</td>\n",
       "      <td>-0.042724</td>\n",
       "      <td>-0.012452</td>\n",
       "      <td>-0.211088</td>\n",
       "      <td>0.208552</td>\n",
       "      <td>0.226410</td>\n",
       "      <td>-0.182881</td>\n",
       "    </tr>\n",
       "    <tr>\n",
       "      <th>Dept</th>\n",
       "      <td>0.024004</td>\n",
       "      <td>1.000000</td>\n",
       "      <td>0.004054</td>\n",
       "      <td>0.148032</td>\n",
       "      <td>0.000916</td>\n",
       "      <td>0.004437</td>\n",
       "      <td>0.003572</td>\n",
       "      <td>0.001494</td>\n",
       "      <td>0.000587</td>\n",
       "      <td>0.001475</td>\n",
       "      <td>0.001937</td>\n",
       "      <td>0.002668</td>\n",
       "      <td>-0.007477</td>\n",
       "      <td>0.007837</td>\n",
       "      <td>0.003708</td>\n",
       "      <td>-0.002966</td>\n",
       "    </tr>\n",
       "    <tr>\n",
       "      <th>Date</th>\n",
       "      <td>0.003362</td>\n",
       "      <td>0.004054</td>\n",
       "      <td>1.000000</td>\n",
       "      <td>-0.000663</td>\n",
       "      <td>-0.013017</td>\n",
       "      <td>0.147064</td>\n",
       "      <td>0.771913</td>\n",
       "      <td>0.470865</td>\n",
       "      <td>0.127975</td>\n",
       "      <td>0.048749</td>\n",
       "      <td>0.297472</td>\n",
       "      <td>0.423599</td>\n",
       "      <td>0.077001</td>\n",
       "      <td>-0.243370</td>\n",
       "      <td>0.004223</td>\n",
       "      <td>-0.005437</td>\n",
       "    </tr>\n",
       "    <tr>\n",
       "      <th>Weekly_Sales</th>\n",
       "      <td>-0.085195</td>\n",
       "      <td>0.148032</td>\n",
       "      <td>-0.000663</td>\n",
       "      <td>1.000000</td>\n",
       "      <td>0.012774</td>\n",
       "      <td>-0.002312</td>\n",
       "      <td>-0.000120</td>\n",
       "      <td>0.047172</td>\n",
       "      <td>0.020716</td>\n",
       "      <td>0.038562</td>\n",
       "      <td>0.037467</td>\n",
       "      <td>0.050465</td>\n",
       "      <td>-0.020921</td>\n",
       "      <td>-0.025864</td>\n",
       "      <td>-0.182242</td>\n",
       "      <td>0.243828</td>\n",
       "    </tr>\n",
       "    <tr>\n",
       "      <th>IsHoliday</th>\n",
       "      <td>-0.000548</td>\n",
       "      <td>0.000916</td>\n",
       "      <td>-0.013017</td>\n",
       "      <td>0.012774</td>\n",
       "      <td>1.000000</td>\n",
       "      <td>-0.155949</td>\n",
       "      <td>-0.078281</td>\n",
       "      <td>-0.003521</td>\n",
       "      <td>0.207604</td>\n",
       "      <td>0.266471</td>\n",
       "      <td>0.011565</td>\n",
       "      <td>-0.015235</td>\n",
       "      <td>-0.001944</td>\n",
       "      <td>0.010460</td>\n",
       "      <td>-0.000798</td>\n",
       "      <td>0.000593</td>\n",
       "    </tr>\n",
       "    <tr>\n",
       "      <th>Temperature</th>\n",
       "      <td>-0.050097</td>\n",
       "      <td>0.004437</td>\n",
       "      <td>0.147064</td>\n",
       "      <td>-0.002312</td>\n",
       "      <td>-0.155949</td>\n",
       "      <td>1.000000</td>\n",
       "      <td>0.143859</td>\n",
       "      <td>-0.026415</td>\n",
       "      <td>-0.179672</td>\n",
       "      <td>-0.056026</td>\n",
       "      <td>-0.050281</td>\n",
       "      <td>-0.014752</td>\n",
       "      <td>0.182112</td>\n",
       "      <td>0.096730</td>\n",
       "      <td>0.042981</td>\n",
       "      <td>-0.058313</td>\n",
       "    </tr>\n",
       "    <tr>\n",
       "      <th>Fuel_Price</th>\n",
       "      <td>0.065290</td>\n",
       "      <td>0.003572</td>\n",
       "      <td>0.771913</td>\n",
       "      <td>-0.000120</td>\n",
       "      <td>-0.078281</td>\n",
       "      <td>0.143859</td>\n",
       "      <td>1.000000</td>\n",
       "      <td>0.297056</td>\n",
       "      <td>0.029153</td>\n",
       "      <td>0.018615</td>\n",
       "      <td>0.166622</td>\n",
       "      <td>0.215420</td>\n",
       "      <td>-0.164210</td>\n",
       "      <td>-0.033853</td>\n",
       "      <td>0.029687</td>\n",
       "      <td>0.003361</td>\n",
       "    </tr>\n",
       "    <tr>\n",
       "      <th>MarkDown1</th>\n",
       "      <td>-0.059844</td>\n",
       "      <td>0.001494</td>\n",
       "      <td>0.470865</td>\n",
       "      <td>0.047172</td>\n",
       "      <td>-0.003521</td>\n",
       "      <td>-0.026415</td>\n",
       "      <td>0.297056</td>\n",
       "      <td>1.000000</td>\n",
       "      <td>0.174868</td>\n",
       "      <td>-0.014411</td>\n",
       "      <td>0.838904</td>\n",
       "      <td>0.415050</td>\n",
       "      <td>0.010915</td>\n",
       "      <td>-0.105168</td>\n",
       "      <td>-0.126345</td>\n",
       "      <td>0.169788</td>\n",
       "    </tr>\n",
       "    <tr>\n",
       "      <th>MarkDown2</th>\n",
       "      <td>-0.033829</td>\n",
       "      <td>0.000587</td>\n",
       "      <td>0.127975</td>\n",
       "      <td>0.020716</td>\n",
       "      <td>0.207604</td>\n",
       "      <td>-0.179672</td>\n",
       "      <td>0.029153</td>\n",
       "      <td>0.174868</td>\n",
       "      <td>1.000000</td>\n",
       "      <td>-0.006080</td>\n",
       "      <td>0.113250</td>\n",
       "      <td>0.131735</td>\n",
       "      <td>-0.003554</td>\n",
       "      <td>-0.041427</td>\n",
       "      <td>-0.055318</td>\n",
       "      <td>0.078372</td>\n",
       "    </tr>\n",
       "    <tr>\n",
       "      <th>MarkDown3</th>\n",
       "      <td>-0.020331</td>\n",
       "      <td>0.001475</td>\n",
       "      <td>0.048749</td>\n",
       "      <td>0.038562</td>\n",
       "      <td>0.266471</td>\n",
       "      <td>-0.056026</td>\n",
       "      <td>0.018615</td>\n",
       "      <td>-0.014411</td>\n",
       "      <td>-0.006080</td>\n",
       "      <td>1.000000</td>\n",
       "      <td>-0.012020</td>\n",
       "      <td>0.042471</td>\n",
       "      <td>-0.005839</td>\n",
       "      <td>-0.018078</td>\n",
       "      <td>-0.024013</td>\n",
       "      <td>0.033641</td>\n",
       "    </tr>\n",
       "    <tr>\n",
       "      <th>MarkDown4</th>\n",
       "      <td>-0.042724</td>\n",
       "      <td>0.001937</td>\n",
       "      <td>0.297472</td>\n",
       "      <td>0.037467</td>\n",
       "      <td>0.011565</td>\n",
       "      <td>-0.050281</td>\n",
       "      <td>0.166622</td>\n",
       "      <td>0.838904</td>\n",
       "      <td>0.113250</td>\n",
       "      <td>-0.012020</td>\n",
       "      <td>1.000000</td>\n",
       "      <td>0.303370</td>\n",
       "      <td>-0.002047</td>\n",
       "      <td>-0.076513</td>\n",
       "      <td>-0.089770</td>\n",
       "      <td>0.127334</td>\n",
       "    </tr>\n",
       "    <tr>\n",
       "      <th>MarkDown5</th>\n",
       "      <td>-0.012452</td>\n",
       "      <td>0.002668</td>\n",
       "      <td>0.423599</td>\n",
       "      <td>0.050465</td>\n",
       "      <td>-0.015235</td>\n",
       "      <td>-0.014752</td>\n",
       "      <td>0.215420</td>\n",
       "      <td>0.415050</td>\n",
       "      <td>0.131735</td>\n",
       "      <td>0.042471</td>\n",
       "      <td>0.303370</td>\n",
       "      <td>1.000000</td>\n",
       "      <td>0.067906</td>\n",
       "      <td>-0.120406</td>\n",
       "      <td>-0.130125</td>\n",
       "      <td>0.153011</td>\n",
       "    </tr>\n",
       "    <tr>\n",
       "      <th>CPI</th>\n",
       "      <td>-0.211088</td>\n",
       "      <td>-0.007477</td>\n",
       "      <td>0.077001</td>\n",
       "      <td>-0.020921</td>\n",
       "      <td>-0.001944</td>\n",
       "      <td>0.182112</td>\n",
       "      <td>-0.164210</td>\n",
       "      <td>0.010915</td>\n",
       "      <td>-0.003554</td>\n",
       "      <td>-0.005839</td>\n",
       "      <td>-0.002047</td>\n",
       "      <td>0.067906</td>\n",
       "      <td>1.000000</td>\n",
       "      <td>-0.299953</td>\n",
       "      <td>-0.065812</td>\n",
       "      <td>-0.003314</td>\n",
       "    </tr>\n",
       "    <tr>\n",
       "      <th>Unemployment</th>\n",
       "      <td>0.208552</td>\n",
       "      <td>0.007837</td>\n",
       "      <td>-0.243370</td>\n",
       "      <td>-0.025864</td>\n",
       "      <td>0.010460</td>\n",
       "      <td>0.096730</td>\n",
       "      <td>-0.033853</td>\n",
       "      <td>-0.105168</td>\n",
       "      <td>-0.041427</td>\n",
       "      <td>-0.018078</td>\n",
       "      <td>-0.076513</td>\n",
       "      <td>-0.120406</td>\n",
       "      <td>-0.299953</td>\n",
       "      <td>1.000000</td>\n",
       "      <td>0.148720</td>\n",
       "      <td>-0.068238</td>\n",
       "    </tr>\n",
       "    <tr>\n",
       "      <th>Type</th>\n",
       "      <td>0.226410</td>\n",
       "      <td>0.003708</td>\n",
       "      <td>0.004223</td>\n",
       "      <td>-0.182242</td>\n",
       "      <td>-0.000798</td>\n",
       "      <td>0.042981</td>\n",
       "      <td>0.029687</td>\n",
       "      <td>-0.126345</td>\n",
       "      <td>-0.055318</td>\n",
       "      <td>-0.024013</td>\n",
       "      <td>-0.089770</td>\n",
       "      <td>-0.130125</td>\n",
       "      <td>-0.065812</td>\n",
       "      <td>0.148720</td>\n",
       "      <td>1.000000</td>\n",
       "      <td>-0.811593</td>\n",
       "    </tr>\n",
       "    <tr>\n",
       "      <th>Size</th>\n",
       "      <td>-0.182881</td>\n",
       "      <td>-0.002966</td>\n",
       "      <td>-0.005437</td>\n",
       "      <td>0.243828</td>\n",
       "      <td>0.000593</td>\n",
       "      <td>-0.058313</td>\n",
       "      <td>0.003361</td>\n",
       "      <td>0.169788</td>\n",
       "      <td>0.078372</td>\n",
       "      <td>0.033641</td>\n",
       "      <td>0.127334</td>\n",
       "      <td>0.153011</td>\n",
       "      <td>-0.003314</td>\n",
       "      <td>-0.068238</td>\n",
       "      <td>-0.811593</td>\n",
       "      <td>1.000000</td>\n",
       "    </tr>\n",
       "  </tbody>\n",
       "</table>\n",
       "</div>"
      ],
      "text/plain": [
       "                 Store      Dept      Date  Weekly_Sales  IsHoliday  \\\n",
       "Store         1.000000  0.024004  0.003362     -0.085195  -0.000548   \n",
       "Dept          0.024004  1.000000  0.004054      0.148032   0.000916   \n",
       "Date          0.003362  0.004054  1.000000     -0.000663  -0.013017   \n",
       "Weekly_Sales -0.085195  0.148032 -0.000663      1.000000   0.012774   \n",
       "IsHoliday    -0.000548  0.000916 -0.013017      0.012774   1.000000   \n",
       "Temperature  -0.050097  0.004437  0.147064     -0.002312  -0.155949   \n",
       "Fuel_Price    0.065290  0.003572  0.771913     -0.000120  -0.078281   \n",
       "MarkDown1    -0.059844  0.001494  0.470865      0.047172  -0.003521   \n",
       "MarkDown2    -0.033829  0.000587  0.127975      0.020716   0.207604   \n",
       "MarkDown3    -0.020331  0.001475  0.048749      0.038562   0.266471   \n",
       "MarkDown4    -0.042724  0.001937  0.297472      0.037467   0.011565   \n",
       "MarkDown5    -0.012452  0.002668  0.423599      0.050465  -0.015235   \n",
       "CPI          -0.211088 -0.007477  0.077001     -0.020921  -0.001944   \n",
       "Unemployment  0.208552  0.007837 -0.243370     -0.025864   0.010460   \n",
       "Type          0.226410  0.003708  0.004223     -0.182242  -0.000798   \n",
       "Size         -0.182881 -0.002966 -0.005437      0.243828   0.000593   \n",
       "\n",
       "              Temperature  Fuel_Price  MarkDown1  MarkDown2  MarkDown3  \\\n",
       "Store           -0.050097    0.065290  -0.059844  -0.033829  -0.020331   \n",
       "Dept             0.004437    0.003572   0.001494   0.000587   0.001475   \n",
       "Date             0.147064    0.771913   0.470865   0.127975   0.048749   \n",
       "Weekly_Sales    -0.002312   -0.000120   0.047172   0.020716   0.038562   \n",
       "IsHoliday       -0.155949   -0.078281  -0.003521   0.207604   0.266471   \n",
       "Temperature      1.000000    0.143859  -0.026415  -0.179672  -0.056026   \n",
       "Fuel_Price       0.143859    1.000000   0.297056   0.029153   0.018615   \n",
       "MarkDown1       -0.026415    0.297056   1.000000   0.174868  -0.014411   \n",
       "MarkDown2       -0.179672    0.029153   0.174868   1.000000  -0.006080   \n",
       "MarkDown3       -0.056026    0.018615  -0.014411  -0.006080   1.000000   \n",
       "MarkDown4       -0.050281    0.166622   0.838904   0.113250  -0.012020   \n",
       "MarkDown5       -0.014752    0.215420   0.415050   0.131735   0.042471   \n",
       "CPI              0.182112   -0.164210   0.010915  -0.003554  -0.005839   \n",
       "Unemployment     0.096730   -0.033853  -0.105168  -0.041427  -0.018078   \n",
       "Type             0.042981    0.029687  -0.126345  -0.055318  -0.024013   \n",
       "Size            -0.058313    0.003361   0.169788   0.078372   0.033641   \n",
       "\n",
       "              MarkDown4  MarkDown5       CPI  Unemployment      Type      Size  \n",
       "Store         -0.042724  -0.012452 -0.211088      0.208552  0.226410 -0.182881  \n",
       "Dept           0.001937   0.002668 -0.007477      0.007837  0.003708 -0.002966  \n",
       "Date           0.297472   0.423599  0.077001     -0.243370  0.004223 -0.005437  \n",
       "Weekly_Sales   0.037467   0.050465 -0.020921     -0.025864 -0.182242  0.243828  \n",
       "IsHoliday      0.011565  -0.015235 -0.001944      0.010460 -0.000798  0.000593  \n",
       "Temperature   -0.050281  -0.014752  0.182112      0.096730  0.042981 -0.058313  \n",
       "Fuel_Price     0.166622   0.215420 -0.164210     -0.033853  0.029687  0.003361  \n",
       "MarkDown1      0.838904   0.415050  0.010915     -0.105168 -0.126345  0.169788  \n",
       "MarkDown2      0.113250   0.131735 -0.003554     -0.041427 -0.055318  0.078372  \n",
       "MarkDown3     -0.012020   0.042471 -0.005839     -0.018078 -0.024013  0.033641  \n",
       "MarkDown4      1.000000   0.303370 -0.002047     -0.076513 -0.089770  0.127334  \n",
       "MarkDown5      0.303370   1.000000  0.067906     -0.120406 -0.130125  0.153011  \n",
       "CPI           -0.002047   0.067906  1.000000     -0.299953 -0.065812 -0.003314  \n",
       "Unemployment  -0.076513  -0.120406 -0.299953      1.000000  0.148720 -0.068238  \n",
       "Type          -0.089770  -0.130125 -0.065812      0.148720  1.000000 -0.811593  \n",
       "Size           0.127334   0.153011 -0.003314     -0.068238 -0.811593  1.000000  "
      ]
     },
     "execution_count": 18,
     "metadata": {},
     "output_type": "execute_result"
    }
   ],
   "source": [
    "data[data[\"Weekly_Sales\"].notna()].corr()"
   ]
  },
  {
   "cell_type": "markdown",
   "id": "f8a9c88a-d364-4965-aa65-80a35a7f1480",
   "metadata": {},
   "source": [
    "# Feature engineering"
   ]
  },
  {
   "cell_type": "code",
   "execution_count": 19,
   "id": "90fc6503-94a5-49af-a9d2-9e0046800e5c",
   "metadata": {},
   "outputs": [],
   "source": [
    "data['rolling_7'] = data['Weekly_Sales'].rolling(window=7).mean()\n",
    "data['rolling_30'] = data['Weekly_Sales'].rolling(window=30).mean()"
   ]
  },
  {
   "cell_type": "code",
   "execution_count": 20,
   "id": "e0fbc0e8-ccee-4750-bfcf-6a8165ef15d4",
   "metadata": {},
   "outputs": [],
   "source": [
    "data[\"year\"] = data['Date'].dt.year\n",
    "data[\"month\"] = data['Date'].dt.month\n",
    "data[\"weekofyear\"] = data['Date'].dt.isocalendar().week\n",
    "data[\"dayofweek\"] = data['Date'].dt.dayofweek"
   ]
  },
  {
   "cell_type": "code",
   "execution_count": 21,
   "id": "82ab7f36-5dfc-4eee-9581-22d69be80122",
   "metadata": {},
   "outputs": [],
   "source": [
    "data = data.sort_values(by=['Store','Dept','Date'])"
   ]
  },
  {
   "cell_type": "code",
   "execution_count": 22,
   "id": "1a97dbb0-cd7c-4572-8030-c5628062d787",
   "metadata": {},
   "outputs": [],
   "source": [
    "data['lag_1'] = data.groupby(['Store','Dept'])['Weekly_Sales'].shift(1)"
   ]
  },
  {
   "cell_type": "code",
   "execution_count": 23,
   "id": "01ae22da-503d-4f6f-aca1-437053b3aeb1",
   "metadata": {},
   "outputs": [],
   "source": [
    "data['rolling_mean_4'] = (\n",
    "    data.groupby(['Store','Dept'])['Weekly_Sales']\n",
    "    .shift(1)  \n",
    "    .rolling(window=4, min_periods=1)\n",
    "    .mean()\n",
    "    .values                        \n",
    ")"
   ]
  },
  {
   "cell_type": "code",
   "execution_count": 24,
   "id": "49bfc8cf-1830-403a-bf93-658c07c285ea",
   "metadata": {},
   "outputs": [],
   "source": [
    "data['rolling_sum_4'] = (\n",
    "    data.groupby(['Store','Dept'])['Weekly_Sales']\n",
    "    .shift(1)  \n",
    "    .rolling(window=4, min_periods=1)\n",
    "    .sum()\n",
    "    .values                        \n",
    ")"
   ]
  },
  {
   "cell_type": "code",
   "execution_count": 25,
   "id": "d813a212-51d7-4b07-bed2-ea7d26faf183",
   "metadata": {},
   "outputs": [],
   "source": [
    "data['rolling_std_4'] = (\n",
    "    data.groupby(['Store','Dept'])['Weekly_Sales']\n",
    "    .shift(1)  \n",
    "    .rolling(window=4, min_periods=1)\n",
    "    .std()\n",
    "    .values                        \n",
    ")"
   ]
  },
  {
   "cell_type": "code",
   "execution_count": 26,
   "id": "df381f92-6804-46ef-b7dd-43f36bba65ab",
   "metadata": {},
   "outputs": [],
   "source": [
    "data['Total_MarkDown'] = data[['MarkDown1','MarkDown2','MarkDown3','MarkDown4','MarkDown5']].sum(axis=1)"
   ]
  },
  {
   "cell_type": "code",
   "execution_count": 27,
   "id": "9f5c6865-3f96-4e91-9821-fab52e408c9f",
   "metadata": {},
   "outputs": [],
   "source": [
    "data['Interaction'] = data['IsHoliday'] * data['Total_MarkDown']"
   ]
  },
  {
   "cell_type": "code",
   "execution_count": 28,
   "id": "d5655474-f7b3-47fd-a08b-4f844bc4ac06",
   "metadata": {},
   "outputs": [],
   "source": [
    "train_final = data[data['Weekly_Sales'].notna()]\n",
    "test_final = data[data['Weekly_Sales'].isna()]"
   ]
  },
  {
   "cell_type": "code",
   "execution_count": 29,
   "id": "a018d53c-7f3d-481d-94ea-0ca3826e820d",
   "metadata": {},
   "outputs": [],
   "source": [
    "train_final = train_final.set_index('Date')\n",
    "result = seasonal_decompose(train_final['Weekly_Sales'], model='additive', period=30)\n",
    "\n",
    "train_final['trend'] = result.trend\n",
    "train_final['seasonal'] = result.seasonal\n",
    "train_final['resid'] = result.resid\n",
    "train_final = train_final.reset_index()"
   ]
  },
  {
   "cell_type": "code",
   "execution_count": 30,
   "id": "0b04030d-cf8a-4d9a-a792-365100176ce0",
   "metadata": {},
   "outputs": [],
   "source": [
    "train_final['lag_1'] = train_final['lag_1'].fillna(0)\n",
    "train_final['rolling_mean_4'] = train_final['rolling_mean_4'].fillna(0)\n",
    "train_final['rolling_sum_4'] = train_final['rolling_sum_4'].fillna(0)\n",
    "train_final['rolling_std_4'] = train_final['rolling_std_4'].fillna(0)\n",
    "train_final['rolling_7'] = train_final['rolling_7'].fillna(0)\n",
    "train_final['rolling_30'] = train_final['rolling_30'].fillna(0)\n",
    "train_final['trend'] = train_final['trend'].fillna(0)\n",
    "train_final['seasonal'] = train_final['seasonal'].fillna(0)\n",
    "train_final['resid'] = train_final['resid'].fillna(0)"
   ]
  },
  {
   "cell_type": "code",
   "execution_count": 31,
   "id": "aa07391f-b32a-4bf2-83bc-470fe03e2ec6",
   "metadata": {},
   "outputs": [],
   "source": [
    "X_train = train_final.drop(columns=[\"Weekly_Sales\",\"Date\"])[:380000]\n",
    "Y_train = train_final[\"Weekly_Sales\"][:380000]\n",
    "X_valid = train_final.drop(columns=[\"Weekly_Sales\",\"Date\"])[380000:]\n",
    "Y_valid = train_final[\"Weekly_Sales\"][380000:]"
   ]
  },
  {
   "cell_type": "markdown",
   "id": "5b0251c3-7f76-408b-87d1-80ab6286dc38",
   "metadata": {},
   "source": [
    "# Modeling"
   ]
  },
  {
   "cell_type": "code",
   "execution_count": 32,
   "id": "d5f655e3-fa2c-4c25-be00-57f0f8062ed4",
   "metadata": {},
   "outputs": [],
   "source": [
    "from sklearn.linear_model import LinearRegression\n",
    "from sklearn.ensemble import RandomForestRegressor\n",
    "from sklearn.metrics import mean_absolute_error, mean_squared_error\n",
    "import numpy as np\n",
    "from xgboost import XGBRegressor\n",
    "from sklearn.model_selection import GridSearchCV\n",
    "from lightgbm import LGBMRegressor"
   ]
  },
  {
   "cell_type": "markdown",
   "id": "c866811a-f9b1-49c0-a003-153b6cadd18f",
   "metadata": {},
   "source": [
    "### linear regression"
   ]
  },
  {
   "cell_type": "code",
   "execution_count": 33,
   "id": "a45fb672-4a54-4227-aaee-49d5ecaccbb6",
   "metadata": {},
   "outputs": [],
   "source": [
    "model = LinearRegression().fit(X_train,Y_train)"
   ]
  },
  {
   "cell_type": "code",
   "execution_count": 34,
   "id": "2ae54fce-ee39-4245-a837-86f8830a116c",
   "metadata": {},
   "outputs": [
    {
     "data": {
      "text/plain": [
       "0.9999330890883642"
      ]
     },
     "execution_count": 34,
     "metadata": {},
     "output_type": "execute_result"
    }
   ],
   "source": [
    "model.score(X_train,Y_train)"
   ]
  },
  {
   "cell_type": "code",
   "execution_count": 35,
   "id": "71882dac-dfa4-4cfa-a7b7-7fb88b6da264",
   "metadata": {},
   "outputs": [
    {
     "name": "stdout",
     "output_type": "stream",
     "text": [
      "MAE: 5.267043771312582\n",
      "RMSE: 14.307871981579988\n"
     ]
    }
   ],
   "source": [
    "Y_pred = model.predict(X_valid)\n",
    "mae = mean_absolute_error(Y_valid, Y_pred)\n",
    "rmse = np.sqrt(mean_squared_error(Y_valid, Y_pred))\n",
    "print(\"MAE:\", mae)\n",
    "print(\"RMSE:\", rmse)"
   ]
  },
  {
   "cell_type": "code",
   "execution_count": 36,
   "id": "64f8c00b-cf32-4ef4-a376-e613d4605356",
   "metadata": {},
   "outputs": [
    {
     "data": {
      "text/plain": [
       "0.9999994331558116"
      ]
     },
     "execution_count": 36,
     "metadata": {},
     "output_type": "execute_result"
    }
   ],
   "source": [
    "model.score(X_valid,Y_valid)"
   ]
  },
  {
   "cell_type": "markdown",
   "id": "ad8afc39-0d53-4457-bb58-c7b7d777b2dd",
   "metadata": {},
   "source": [
    "### random forest"
   ]
  },
  {
   "cell_type": "code",
   "execution_count": 135,
   "id": "4ac163cf-5fd8-49a2-944c-0c3a41a97f4d",
   "metadata": {},
   "outputs": [],
   "source": [
    "rfr = RandomForestRegressor().fit(X_train,Y_train)"
   ]
  },
  {
   "cell_type": "code",
   "execution_count": 136,
   "id": "72175329-1369-423e-ad1d-de54f1419e28",
   "metadata": {},
   "outputs": [
    {
     "data": {
      "text/plain": [
       "0.9998976110799054"
      ]
     },
     "execution_count": 136,
     "metadata": {},
     "output_type": "execute_result"
    }
   ],
   "source": [
    "rfr.score(X_train,Y_train)"
   ]
  },
  {
   "cell_type": "code",
   "execution_count": 137,
   "id": "63baf8ba-ac8f-45ba-a3c4-7236378d82a1",
   "metadata": {},
   "outputs": [
    {
     "name": "stdout",
     "output_type": "stream",
     "text": [
      "MAE: 84.05323367572761\n",
      "RMSE: 279.2234127374475\n"
     ]
    }
   ],
   "source": [
    "Y_pred = rfr.predict(X_valid)\n",
    "mae = mean_absolute_error(Y_valid, Y_pred)\n",
    "rmse = np.sqrt(mean_squared_error(Y_valid, Y_pred))\n",
    "print(\"MAE:\", mae)\n",
    "print(\"RMSE:\", rmse)"
   ]
  },
  {
   "cell_type": "code",
   "execution_count": 138,
   "id": "8fbbbb02-b329-4cd3-8d5e-3667cb68bcf9",
   "metadata": {},
   "outputs": [
    {
     "data": {
      "text/plain": [
       "0.9997841175845109"
      ]
     },
     "execution_count": 138,
     "metadata": {},
     "output_type": "execute_result"
    }
   ],
   "source": [
    "rfr.score(X_valid,Y_valid)"
   ]
  },
  {
   "cell_type": "markdown",
   "id": "2018a3af-557e-466b-a9b9-3db354f87af0",
   "metadata": {},
   "source": [
    "### XGBoost "
   ]
  },
  {
   "cell_type": "code",
   "execution_count": 281,
   "id": "a5735827-e9a2-4fc0-b759-2711dce82aeb",
   "metadata": {},
   "outputs": [],
   "source": [
    "param_grid = {\n",
    "    'n_estimators' : [150,200,250],\n",
    "    'max_depth': [9, 7 , 8],\n",
    "    'learning_rate': [0.1 , 0.15 , 0.12 , 0.08],\n",
    "}"
   ]
  },
  {
   "cell_type": "code",
   "execution_count": 272,
   "id": "ef2519e8-0cd7-4628-8be4-4047ee2e23d3",
   "metadata": {},
   "outputs": [
    {
     "data": {
      "text/html": [
       "<style>#sk-container-id-12 {\n",
       "  /* Definition of color scheme common for light and dark mode */\n",
       "  --sklearn-color-text: black;\n",
       "  --sklearn-color-line: gray;\n",
       "  /* Definition of color scheme for unfitted estimators */\n",
       "  --sklearn-color-unfitted-level-0: #fff5e6;\n",
       "  --sklearn-color-unfitted-level-1: #f6e4d2;\n",
       "  --sklearn-color-unfitted-level-2: #ffe0b3;\n",
       "  --sklearn-color-unfitted-level-3: chocolate;\n",
       "  /* Definition of color scheme for fitted estimators */\n",
       "  --sklearn-color-fitted-level-0: #f0f8ff;\n",
       "  --sklearn-color-fitted-level-1: #d4ebff;\n",
       "  --sklearn-color-fitted-level-2: #b3dbfd;\n",
       "  --sklearn-color-fitted-level-3: cornflowerblue;\n",
       "\n",
       "  /* Specific color for light theme */\n",
       "  --sklearn-color-text-on-default-background: var(--sg-text-color, var(--theme-code-foreground, var(--jp-content-font-color1, black)));\n",
       "  --sklearn-color-background: var(--sg-background-color, var(--theme-background, var(--jp-layout-color0, white)));\n",
       "  --sklearn-color-border-box: var(--sg-text-color, var(--theme-code-foreground, var(--jp-content-font-color1, black)));\n",
       "  --sklearn-color-icon: #696969;\n",
       "\n",
       "  @media (prefers-color-scheme: dark) {\n",
       "    /* Redefinition of color scheme for dark theme */\n",
       "    --sklearn-color-text-on-default-background: var(--sg-text-color, var(--theme-code-foreground, var(--jp-content-font-color1, white)));\n",
       "    --sklearn-color-background: var(--sg-background-color, var(--theme-background, var(--jp-layout-color0, #111)));\n",
       "    --sklearn-color-border-box: var(--sg-text-color, var(--theme-code-foreground, var(--jp-content-font-color1, white)));\n",
       "    --sklearn-color-icon: #878787;\n",
       "  }\n",
       "}\n",
       "\n",
       "#sk-container-id-12 {\n",
       "  color: var(--sklearn-color-text);\n",
       "}\n",
       "\n",
       "#sk-container-id-12 pre {\n",
       "  padding: 0;\n",
       "}\n",
       "\n",
       "#sk-container-id-12 input.sk-hidden--visually {\n",
       "  border: 0;\n",
       "  clip: rect(1px 1px 1px 1px);\n",
       "  clip: rect(1px, 1px, 1px, 1px);\n",
       "  height: 1px;\n",
       "  margin: -1px;\n",
       "  overflow: hidden;\n",
       "  padding: 0;\n",
       "  position: absolute;\n",
       "  width: 1px;\n",
       "}\n",
       "\n",
       "#sk-container-id-12 div.sk-dashed-wrapped {\n",
       "  border: 1px dashed var(--sklearn-color-line);\n",
       "  margin: 0 0.4em 0.5em 0.4em;\n",
       "  box-sizing: border-box;\n",
       "  padding-bottom: 0.4em;\n",
       "  background-color: var(--sklearn-color-background);\n",
       "}\n",
       "\n",
       "#sk-container-id-12 div.sk-container {\n",
       "  /* jupyter's `normalize.less` sets `[hidden] { display: none; }`\n",
       "     but bootstrap.min.css set `[hidden] { display: none !important; }`\n",
       "     so we also need the `!important` here to be able to override the\n",
       "     default hidden behavior on the sphinx rendered scikit-learn.org.\n",
       "     See: https://github.com/scikit-learn/scikit-learn/issues/21755 */\n",
       "  display: inline-block !important;\n",
       "  position: relative;\n",
       "}\n",
       "\n",
       "#sk-container-id-12 div.sk-text-repr-fallback {\n",
       "  display: none;\n",
       "}\n",
       "\n",
       "div.sk-parallel-item,\n",
       "div.sk-serial,\n",
       "div.sk-item {\n",
       "  /* draw centered vertical line to link estimators */\n",
       "  background-image: linear-gradient(var(--sklearn-color-text-on-default-background), var(--sklearn-color-text-on-default-background));\n",
       "  background-size: 2px 100%;\n",
       "  background-repeat: no-repeat;\n",
       "  background-position: center center;\n",
       "}\n",
       "\n",
       "/* Parallel-specific style estimator block */\n",
       "\n",
       "#sk-container-id-12 div.sk-parallel-item::after {\n",
       "  content: \"\";\n",
       "  width: 100%;\n",
       "  border-bottom: 2px solid var(--sklearn-color-text-on-default-background);\n",
       "  flex-grow: 1;\n",
       "}\n",
       "\n",
       "#sk-container-id-12 div.sk-parallel {\n",
       "  display: flex;\n",
       "  align-items: stretch;\n",
       "  justify-content: center;\n",
       "  background-color: var(--sklearn-color-background);\n",
       "  position: relative;\n",
       "}\n",
       "\n",
       "#sk-container-id-12 div.sk-parallel-item {\n",
       "  display: flex;\n",
       "  flex-direction: column;\n",
       "}\n",
       "\n",
       "#sk-container-id-12 div.sk-parallel-item:first-child::after {\n",
       "  align-self: flex-end;\n",
       "  width: 50%;\n",
       "}\n",
       "\n",
       "#sk-container-id-12 div.sk-parallel-item:last-child::after {\n",
       "  align-self: flex-start;\n",
       "  width: 50%;\n",
       "}\n",
       "\n",
       "#sk-container-id-12 div.sk-parallel-item:only-child::after {\n",
       "  width: 0;\n",
       "}\n",
       "\n",
       "/* Serial-specific style estimator block */\n",
       "\n",
       "#sk-container-id-12 div.sk-serial {\n",
       "  display: flex;\n",
       "  flex-direction: column;\n",
       "  align-items: center;\n",
       "  background-color: var(--sklearn-color-background);\n",
       "  padding-right: 1em;\n",
       "  padding-left: 1em;\n",
       "}\n",
       "\n",
       "\n",
       "/* Toggleable style: style used for estimator/Pipeline/ColumnTransformer box that is\n",
       "clickable and can be expanded/collapsed.\n",
       "- Pipeline and ColumnTransformer use this feature and define the default style\n",
       "- Estimators will overwrite some part of the style using the `sk-estimator` class\n",
       "*/\n",
       "\n",
       "/* Pipeline and ColumnTransformer style (default) */\n",
       "\n",
       "#sk-container-id-12 div.sk-toggleable {\n",
       "  /* Default theme specific background. It is overwritten whether we have a\n",
       "  specific estimator or a Pipeline/ColumnTransformer */\n",
       "  background-color: var(--sklearn-color-background);\n",
       "}\n",
       "\n",
       "/* Toggleable label */\n",
       "#sk-container-id-12 label.sk-toggleable__label {\n",
       "  cursor: pointer;\n",
       "  display: block;\n",
       "  width: 100%;\n",
       "  margin-bottom: 0;\n",
       "  padding: 0.5em;\n",
       "  box-sizing: border-box;\n",
       "  text-align: center;\n",
       "}\n",
       "\n",
       "#sk-container-id-12 label.sk-toggleable__label-arrow:before {\n",
       "  /* Arrow on the left of the label */\n",
       "  content: \"▸\";\n",
       "  float: left;\n",
       "  margin-right: 0.25em;\n",
       "  color: var(--sklearn-color-icon);\n",
       "}\n",
       "\n",
       "#sk-container-id-12 label.sk-toggleable__label-arrow:hover:before {\n",
       "  color: var(--sklearn-color-text);\n",
       "}\n",
       "\n",
       "/* Toggleable content - dropdown */\n",
       "\n",
       "#sk-container-id-12 div.sk-toggleable__content {\n",
       "  max-height: 0;\n",
       "  max-width: 0;\n",
       "  overflow: hidden;\n",
       "  text-align: left;\n",
       "  /* unfitted */\n",
       "  background-color: var(--sklearn-color-unfitted-level-0);\n",
       "}\n",
       "\n",
       "#sk-container-id-12 div.sk-toggleable__content.fitted {\n",
       "  /* fitted */\n",
       "  background-color: var(--sklearn-color-fitted-level-0);\n",
       "}\n",
       "\n",
       "#sk-container-id-12 div.sk-toggleable__content pre {\n",
       "  margin: 0.2em;\n",
       "  border-radius: 0.25em;\n",
       "  color: var(--sklearn-color-text);\n",
       "  /* unfitted */\n",
       "  background-color: var(--sklearn-color-unfitted-level-0);\n",
       "}\n",
       "\n",
       "#sk-container-id-12 div.sk-toggleable__content.fitted pre {\n",
       "  /* unfitted */\n",
       "  background-color: var(--sklearn-color-fitted-level-0);\n",
       "}\n",
       "\n",
       "#sk-container-id-12 input.sk-toggleable__control:checked~div.sk-toggleable__content {\n",
       "  /* Expand drop-down */\n",
       "  max-height: 200px;\n",
       "  max-width: 100%;\n",
       "  overflow: auto;\n",
       "}\n",
       "\n",
       "#sk-container-id-12 input.sk-toggleable__control:checked~label.sk-toggleable__label-arrow:before {\n",
       "  content: \"▾\";\n",
       "}\n",
       "\n",
       "/* Pipeline/ColumnTransformer-specific style */\n",
       "\n",
       "#sk-container-id-12 div.sk-label input.sk-toggleable__control:checked~label.sk-toggleable__label {\n",
       "  color: var(--sklearn-color-text);\n",
       "  background-color: var(--sklearn-color-unfitted-level-2);\n",
       "}\n",
       "\n",
       "#sk-container-id-12 div.sk-label.fitted input.sk-toggleable__control:checked~label.sk-toggleable__label {\n",
       "  background-color: var(--sklearn-color-fitted-level-2);\n",
       "}\n",
       "\n",
       "/* Estimator-specific style */\n",
       "\n",
       "/* Colorize estimator box */\n",
       "#sk-container-id-12 div.sk-estimator input.sk-toggleable__control:checked~label.sk-toggleable__label {\n",
       "  /* unfitted */\n",
       "  background-color: var(--sklearn-color-unfitted-level-2);\n",
       "}\n",
       "\n",
       "#sk-container-id-12 div.sk-estimator.fitted input.sk-toggleable__control:checked~label.sk-toggleable__label {\n",
       "  /* fitted */\n",
       "  background-color: var(--sklearn-color-fitted-level-2);\n",
       "}\n",
       "\n",
       "#sk-container-id-12 div.sk-label label.sk-toggleable__label,\n",
       "#sk-container-id-12 div.sk-label label {\n",
       "  /* The background is the default theme color */\n",
       "  color: var(--sklearn-color-text-on-default-background);\n",
       "}\n",
       "\n",
       "/* On hover, darken the color of the background */\n",
       "#sk-container-id-12 div.sk-label:hover label.sk-toggleable__label {\n",
       "  color: var(--sklearn-color-text);\n",
       "  background-color: var(--sklearn-color-unfitted-level-2);\n",
       "}\n",
       "\n",
       "/* Label box, darken color on hover, fitted */\n",
       "#sk-container-id-12 div.sk-label.fitted:hover label.sk-toggleable__label.fitted {\n",
       "  color: var(--sklearn-color-text);\n",
       "  background-color: var(--sklearn-color-fitted-level-2);\n",
       "}\n",
       "\n",
       "/* Estimator label */\n",
       "\n",
       "#sk-container-id-12 div.sk-label label {\n",
       "  font-family: monospace;\n",
       "  font-weight: bold;\n",
       "  display: inline-block;\n",
       "  line-height: 1.2em;\n",
       "}\n",
       "\n",
       "#sk-container-id-12 div.sk-label-container {\n",
       "  text-align: center;\n",
       "}\n",
       "\n",
       "/* Estimator-specific */\n",
       "#sk-container-id-12 div.sk-estimator {\n",
       "  font-family: monospace;\n",
       "  border: 1px dotted var(--sklearn-color-border-box);\n",
       "  border-radius: 0.25em;\n",
       "  box-sizing: border-box;\n",
       "  margin-bottom: 0.5em;\n",
       "  /* unfitted */\n",
       "  background-color: var(--sklearn-color-unfitted-level-0);\n",
       "}\n",
       "\n",
       "#sk-container-id-12 div.sk-estimator.fitted {\n",
       "  /* fitted */\n",
       "  background-color: var(--sklearn-color-fitted-level-0);\n",
       "}\n",
       "\n",
       "/* on hover */\n",
       "#sk-container-id-12 div.sk-estimator:hover {\n",
       "  /* unfitted */\n",
       "  background-color: var(--sklearn-color-unfitted-level-2);\n",
       "}\n",
       "\n",
       "#sk-container-id-12 div.sk-estimator.fitted:hover {\n",
       "  /* fitted */\n",
       "  background-color: var(--sklearn-color-fitted-level-2);\n",
       "}\n",
       "\n",
       "/* Specification for estimator info (e.g. \"i\" and \"?\") */\n",
       "\n",
       "/* Common style for \"i\" and \"?\" */\n",
       "\n",
       ".sk-estimator-doc-link,\n",
       "a:link.sk-estimator-doc-link,\n",
       "a:visited.sk-estimator-doc-link {\n",
       "  float: right;\n",
       "  font-size: smaller;\n",
       "  line-height: 1em;\n",
       "  font-family: monospace;\n",
       "  background-color: var(--sklearn-color-background);\n",
       "  border-radius: 1em;\n",
       "  height: 1em;\n",
       "  width: 1em;\n",
       "  text-decoration: none !important;\n",
       "  margin-left: 1ex;\n",
       "  /* unfitted */\n",
       "  border: var(--sklearn-color-unfitted-level-1) 1pt solid;\n",
       "  color: var(--sklearn-color-unfitted-level-1);\n",
       "}\n",
       "\n",
       ".sk-estimator-doc-link.fitted,\n",
       "a:link.sk-estimator-doc-link.fitted,\n",
       "a:visited.sk-estimator-doc-link.fitted {\n",
       "  /* fitted */\n",
       "  border: var(--sklearn-color-fitted-level-1) 1pt solid;\n",
       "  color: var(--sklearn-color-fitted-level-1);\n",
       "}\n",
       "\n",
       "/* On hover */\n",
       "div.sk-estimator:hover .sk-estimator-doc-link:hover,\n",
       ".sk-estimator-doc-link:hover,\n",
       "div.sk-label-container:hover .sk-estimator-doc-link:hover,\n",
       ".sk-estimator-doc-link:hover {\n",
       "  /* unfitted */\n",
       "  background-color: var(--sklearn-color-unfitted-level-3);\n",
       "  color: var(--sklearn-color-background);\n",
       "  text-decoration: none;\n",
       "}\n",
       "\n",
       "div.sk-estimator.fitted:hover .sk-estimator-doc-link.fitted:hover,\n",
       ".sk-estimator-doc-link.fitted:hover,\n",
       "div.sk-label-container:hover .sk-estimator-doc-link.fitted:hover,\n",
       ".sk-estimator-doc-link.fitted:hover {\n",
       "  /* fitted */\n",
       "  background-color: var(--sklearn-color-fitted-level-3);\n",
       "  color: var(--sklearn-color-background);\n",
       "  text-decoration: none;\n",
       "}\n",
       "\n",
       "/* Span, style for the box shown on hovering the info icon */\n",
       ".sk-estimator-doc-link span {\n",
       "  display: none;\n",
       "  z-index: 9999;\n",
       "  position: relative;\n",
       "  font-weight: normal;\n",
       "  right: .2ex;\n",
       "  padding: .5ex;\n",
       "  margin: .5ex;\n",
       "  width: min-content;\n",
       "  min-width: 20ex;\n",
       "  max-width: 50ex;\n",
       "  color: var(--sklearn-color-text);\n",
       "  box-shadow: 2pt 2pt 4pt #999;\n",
       "  /* unfitted */\n",
       "  background: var(--sklearn-color-unfitted-level-0);\n",
       "  border: .5pt solid var(--sklearn-color-unfitted-level-3);\n",
       "}\n",
       "\n",
       ".sk-estimator-doc-link.fitted span {\n",
       "  /* fitted */\n",
       "  background: var(--sklearn-color-fitted-level-0);\n",
       "  border: var(--sklearn-color-fitted-level-3);\n",
       "}\n",
       "\n",
       ".sk-estimator-doc-link:hover span {\n",
       "  display: block;\n",
       "}\n",
       "\n",
       "/* \"?\"-specific style due to the `<a>` HTML tag */\n",
       "\n",
       "#sk-container-id-12 a.estimator_doc_link {\n",
       "  float: right;\n",
       "  font-size: 1rem;\n",
       "  line-height: 1em;\n",
       "  font-family: monospace;\n",
       "  background-color: var(--sklearn-color-background);\n",
       "  border-radius: 1rem;\n",
       "  height: 1rem;\n",
       "  width: 1rem;\n",
       "  text-decoration: none;\n",
       "  /* unfitted */\n",
       "  color: var(--sklearn-color-unfitted-level-1);\n",
       "  border: var(--sklearn-color-unfitted-level-1) 1pt solid;\n",
       "}\n",
       "\n",
       "#sk-container-id-12 a.estimator_doc_link.fitted {\n",
       "  /* fitted */\n",
       "  border: var(--sklearn-color-fitted-level-1) 1pt solid;\n",
       "  color: var(--sklearn-color-fitted-level-1);\n",
       "}\n",
       "\n",
       "/* On hover */\n",
       "#sk-container-id-12 a.estimator_doc_link:hover {\n",
       "  /* unfitted */\n",
       "  background-color: var(--sklearn-color-unfitted-level-3);\n",
       "  color: var(--sklearn-color-background);\n",
       "  text-decoration: none;\n",
       "}\n",
       "\n",
       "#sk-container-id-12 a.estimator_doc_link.fitted:hover {\n",
       "  /* fitted */\n",
       "  background-color: var(--sklearn-color-fitted-level-3);\n",
       "}\n",
       "</style><div id=\"sk-container-id-12\" class=\"sk-top-container\"><div class=\"sk-text-repr-fallback\"><pre>GridSearchCV(cv=5,\n",
       "             estimator=XGBRegressor(base_score=None, booster=None,\n",
       "                                    callbacks=None, colsample_bylevel=None,\n",
       "                                    colsample_bynode=None,\n",
       "                                    colsample_bytree=None, device=None,\n",
       "                                    early_stopping_rounds=None,\n",
       "                                    enable_categorical=False, eval_metric=None,\n",
       "                                    feature_types=None, feature_weights=None,\n",
       "                                    gamma=None, grow_policy=None,\n",
       "                                    importance_type=None,\n",
       "                                    interaction_constraints=None...\n",
       "                                    max_cat_to_onehot=None, max_delta_step=None,\n",
       "                                    max_depth=None, max_leaves=None,\n",
       "                                    min_child_weight=None, missing=nan,\n",
       "                                    monotone_constraints=None,\n",
       "                                    multi_strategy=None, n_estimators=None,\n",
       "                                    n_jobs=None, num_parallel_tree=None, ...),\n",
       "             param_grid={&#x27;learning_rate&#x27;: [0.05, 0.1, 0.15, 0.12, 0.08],\n",
       "                         &#x27;max_depth&#x27;: [9, 7, 8],\n",
       "                         &#x27;n_estimators&#x27;: [150, 200, 250]},\n",
       "             scoring=&#x27;neg_root_mean_squared_error&#x27;)</pre><b>In a Jupyter environment, please rerun this cell to show the HTML representation or trust the notebook. <br />On GitHub, the HTML representation is unable to render, please try loading this page with nbviewer.org.</b></div><div class=\"sk-container\" hidden><div class=\"sk-item sk-dashed-wrapped\"><div class=\"sk-label-container\"><div class=\"sk-label fitted sk-toggleable\"><input class=\"sk-toggleable__control sk-hidden--visually\" id=\"sk-estimator-id-12\" type=\"checkbox\" ><label for=\"sk-estimator-id-12\" class=\"sk-toggleable__label fitted sk-toggleable__label-arrow fitted\">&nbsp;&nbsp;GridSearchCV<a class=\"sk-estimator-doc-link fitted\" rel=\"noreferrer\" target=\"_blank\" href=\"https://scikit-learn.org/1.5/modules/generated/sklearn.model_selection.GridSearchCV.html\">?<span>Documentation for GridSearchCV</span></a><span class=\"sk-estimator-doc-link fitted\">i<span>Fitted</span></span></label><div class=\"sk-toggleable__content fitted\"><pre>GridSearchCV(cv=5,\n",
       "             estimator=XGBRegressor(base_score=None, booster=None,\n",
       "                                    callbacks=None, colsample_bylevel=None,\n",
       "                                    colsample_bynode=None,\n",
       "                                    colsample_bytree=None, device=None,\n",
       "                                    early_stopping_rounds=None,\n",
       "                                    enable_categorical=False, eval_metric=None,\n",
       "                                    feature_types=None, feature_weights=None,\n",
       "                                    gamma=None, grow_policy=None,\n",
       "                                    importance_type=None,\n",
       "                                    interaction_constraints=None...\n",
       "                                    max_cat_to_onehot=None, max_delta_step=None,\n",
       "                                    max_depth=None, max_leaves=None,\n",
       "                                    min_child_weight=None, missing=nan,\n",
       "                                    monotone_constraints=None,\n",
       "                                    multi_strategy=None, n_estimators=None,\n",
       "                                    n_jobs=None, num_parallel_tree=None, ...),\n",
       "             param_grid={&#x27;learning_rate&#x27;: [0.05, 0.1, 0.15, 0.12, 0.08],\n",
       "                         &#x27;max_depth&#x27;: [9, 7, 8],\n",
       "                         &#x27;n_estimators&#x27;: [150, 200, 250]},\n",
       "             scoring=&#x27;neg_root_mean_squared_error&#x27;)</pre></div> </div></div><div class=\"sk-parallel\"><div class=\"sk-parallel-item\"><div class=\"sk-item\"><div class=\"sk-label-container\"><div class=\"sk-label fitted sk-toggleable\"><input class=\"sk-toggleable__control sk-hidden--visually\" id=\"sk-estimator-id-13\" type=\"checkbox\" ><label for=\"sk-estimator-id-13\" class=\"sk-toggleable__label fitted sk-toggleable__label-arrow fitted\">best_estimator_: XGBRegressor</label><div class=\"sk-toggleable__content fitted\"><pre>XGBRegressor(base_score=None, booster=None, callbacks=None,\n",
       "             colsample_bylevel=None, colsample_bynode=None,\n",
       "             colsample_bytree=None, device=None, early_stopping_rounds=None,\n",
       "             enable_categorical=False, eval_metric=None, feature_types=None,\n",
       "             feature_weights=None, gamma=None, grow_policy=None,\n",
       "             importance_type=None, interaction_constraints=None,\n",
       "             learning_rate=0.15, max_bin=None, max_cat_threshold=None,\n",
       "             max_cat_to_onehot=None, max_delta_step=None, max_depth=7,\n",
       "             max_leaves=None, min_child_weight=None, missing=nan,\n",
       "             monotone_constraints=None, multi_strategy=None, n_estimators=250,\n",
       "             n_jobs=None, num_parallel_tree=None, ...)</pre></div> </div></div><div class=\"sk-serial\"><div class=\"sk-item\"><div class=\"sk-estimator fitted sk-toggleable\"><input class=\"sk-toggleable__control sk-hidden--visually\" id=\"sk-estimator-id-14\" type=\"checkbox\" ><label for=\"sk-estimator-id-14\" class=\"sk-toggleable__label fitted sk-toggleable__label-arrow fitted\">&nbsp;XGBRegressor<a class=\"sk-estimator-doc-link fitted\" rel=\"noreferrer\" target=\"_blank\" href=\"https://xgboost.readthedocs.io/en/release_3.0.0/python/python_api.html#xgboost.XGBRegressor\">?<span>Documentation for XGBRegressor</span></a></label><div class=\"sk-toggleable__content fitted\"><pre>XGBRegressor(base_score=None, booster=None, callbacks=None,\n",
       "             colsample_bylevel=None, colsample_bynode=None,\n",
       "             colsample_bytree=None, device=None, early_stopping_rounds=None,\n",
       "             enable_categorical=False, eval_metric=None, feature_types=None,\n",
       "             feature_weights=None, gamma=None, grow_policy=None,\n",
       "             importance_type=None, interaction_constraints=None,\n",
       "             learning_rate=0.15, max_bin=None, max_cat_threshold=None,\n",
       "             max_cat_to_onehot=None, max_delta_step=None, max_depth=7,\n",
       "             max_leaves=None, min_child_weight=None, missing=nan,\n",
       "             monotone_constraints=None, multi_strategy=None, n_estimators=250,\n",
       "             n_jobs=None, num_parallel_tree=None, ...)</pre></div> </div></div></div></div></div></div></div></div></div>"
      ],
      "text/plain": [
       "GridSearchCV(cv=5,\n",
       "             estimator=XGBRegressor(base_score=None, booster=None,\n",
       "                                    callbacks=None, colsample_bylevel=None,\n",
       "                                    colsample_bynode=None,\n",
       "                                    colsample_bytree=None, device=None,\n",
       "                                    early_stopping_rounds=None,\n",
       "                                    enable_categorical=False, eval_metric=None,\n",
       "                                    feature_types=None, feature_weights=None,\n",
       "                                    gamma=None, grow_policy=None,\n",
       "                                    importance_type=None,\n",
       "                                    interaction_constraints=None...\n",
       "                                    max_cat_to_onehot=None, max_delta_step=None,\n",
       "                                    max_depth=None, max_leaves=None,\n",
       "                                    min_child_weight=None, missing=nan,\n",
       "                                    monotone_constraints=None,\n",
       "                                    multi_strategy=None, n_estimators=None,\n",
       "                                    n_jobs=None, num_parallel_tree=None, ...),\n",
       "             param_grid={'learning_rate': [0.05, 0.1, 0.15, 0.12, 0.08],\n",
       "                         'max_depth': [9, 7, 8],\n",
       "                         'n_estimators': [150, 200, 250]},\n",
       "             scoring='neg_root_mean_squared_error')"
      ]
     },
     "execution_count": 272,
     "metadata": {},
     "output_type": "execute_result"
    }
   ],
   "source": [
    "xgb = XGBRegressor()\n",
    "grid = GridSearchCV(xgb, param_grid, cv=5, scoring='neg_root_mean_squared_error')\n",
    "grid.fit(X_train,Y_train)"
   ]
  },
  {
   "cell_type": "code",
   "execution_count": 273,
   "id": "30194eb7-c5f0-4fc0-a2fd-2dc87c46be7c",
   "metadata": {},
   "outputs": [
    {
     "name": "stdout",
     "output_type": "stream",
     "text": [
      "{'learning_rate': 0.15, 'max_depth': 7, 'n_estimators': 250}\n"
     ]
    }
   ],
   "source": [
    "print(grid.best_params_)"
   ]
  },
  {
   "cell_type": "code",
   "execution_count": 126,
   "id": "20af3a6b-1949-403f-8262-adebf2d55162",
   "metadata": {},
   "outputs": [],
   "source": [
    "xgb = XGBRegressor(learning_rate = 0.15 , max_depth = 7 , n_estimators = 250).fit(X_train,Y_train)"
   ]
  },
  {
   "cell_type": "code",
   "execution_count": 127,
   "id": "d6d4d169-7303-4f09-9670-b4431ebc6896",
   "metadata": {},
   "outputs": [
    {
     "data": {
      "text/plain": [
       "0.9981633504742101"
      ]
     },
     "execution_count": 127,
     "metadata": {},
     "output_type": "execute_result"
    }
   ],
   "source": [
    "xgb.score(X_train, Y_train)"
   ]
  },
  {
   "cell_type": "code",
   "execution_count": 128,
   "id": "1c4526ee-bba7-4787-8078-fbec6c19c7b1",
   "metadata": {},
   "outputs": [
    {
     "data": {
      "text/plain": [
       "0.9986598458334032"
      ]
     },
     "execution_count": 128,
     "metadata": {},
     "output_type": "execute_result"
    }
   ],
   "source": [
    "xgb.score(X_valid, Y_valid)"
   ]
  },
  {
   "cell_type": "code",
   "execution_count": 129,
   "id": "ced3921e-75be-4075-aef4-2f16887873fe",
   "metadata": {},
   "outputs": [
    {
     "name": "stdout",
     "output_type": "stream",
     "text": [
      "MAE: 221.44841728128614\n",
      "RMSE: 695.6977150491667\n"
     ]
    }
   ],
   "source": [
    "Y_pred = xgb.predict(X_valid)\n",
    "mae = mean_absolute_error(Y_valid, Y_pred)\n",
    "rmse = np.sqrt(mean_squared_error(Y_valid, Y_pred))\n",
    "print(\"MAE:\", mae)\n",
    "print(\"RMSE:\", rmse)"
   ]
  },
  {
   "cell_type": "code",
   "execution_count": 130,
   "id": "6bb5f758-f3b9-4374-a1aa-a51253d97b3f",
   "metadata": {},
   "outputs": [
    {
     "name": "stdout",
     "output_type": "stream",
     "text": [
      "lag_1 0.5659888\n",
      "rolling_7 0.27897015\n",
      "trend 0.060674764\n",
      "resid 0.035096228\n",
      "IsHoliday 0.032550175\n",
      "Type 0.010270277\n",
      "rolling_mean_4 0.009068037\n",
      "month 0.0073815985\n"
     ]
    }
   ],
   "source": [
    "importances = xgb.feature_importances_\n",
    "\n",
    "import numpy as np\n",
    "indices = np.argsort(importances)[::-1]\n",
    "for i in indices:\n",
    "    print(X_train.columns[i], importances[i])"
   ]
  },
  {
   "cell_type": "code",
   "execution_count": 343,
   "id": "39807c1f-47c1-4a75-8b99-0ab4788ef104",
   "metadata": {},
   "outputs": [],
   "source": [
    "X_train = train_final[[\"lag_1\",\"rolling_7\",\"trend\",\"IsHoliday\",\"resid\",\"Type\",\"rolling_mean_4\",\"month\"]][:380000]\n",
    "Y_train = train_final[\"Weekly_Sales\"][:380000]\n",
    "X_valid = train_final[[\"lag_1\",\"rolling_7\",\"trend\",\"IsHoliday\",\"resid\",\"Type\",\"rolling_mean_4\",\"month\"]][380000:]\n",
    "Y_valid = train_final[\"Weekly_Sales\"][380000:]"
   ]
  },
  {
   "cell_type": "markdown",
   "id": "e761e23e-857c-4955-bd15-7ded0a415bf3",
   "metadata": {},
   "source": [
    "### lightgbm"
   ]
  },
  {
   "cell_type": "code",
   "execution_count": 344,
   "id": "4c1605e1-a51f-4642-a6f3-4be85c1b25c1",
   "metadata": {},
   "outputs": [
    {
     "name": "stdout",
     "output_type": "stream",
     "text": [
      "[LightGBM] [Info] Auto-choosing col-wise multi-threading, the overhead of testing was 0.034064 seconds.\n",
      "You can set `force_col_wise=true` to remove the overhead.\n",
      "[LightGBM] [Info] Total Bins 1294\n",
      "[LightGBM] [Info] Number of data points in the train set: 380000, number of used features: 8\n",
      "[LightGBM] [Info] Start training from score 16309.309292\n"
     ]
    }
   ],
   "source": [
    "lgb = LGBMRegressor(learning_rate = 0.15 , max_depth = -1 , n_estimators = 250).fit(X_train,Y_train)"
   ]
  },
  {
   "cell_type": "code",
   "execution_count": 345,
   "id": "87876bf6-1072-4792-b585-d9f00952c251",
   "metadata": {},
   "outputs": [
    {
     "name": "stdout",
     "output_type": "stream",
     "text": [
      "MAE: 272.0568746391338\n",
      "RMSE: 853.9421774801048\n"
     ]
    }
   ],
   "source": [
    "Y_pred = lgb.predict(X_valid)\n",
    "mae = mean_absolute_error(Y_valid, Y_pred)\n",
    "rmse = np.sqrt(mean_squared_error(Y_valid, Y_pred))\n",
    "print(\"MAE:\", mae)\n",
    "print(\"RMSE:\", rmse)"
   ]
  },
  {
   "cell_type": "code",
   "execution_count": 346,
   "id": "61296ecf-b329-4c5b-a159-95841efb6d00",
   "metadata": {},
   "outputs": [
    {
     "data": {
      "text/plain": [
       "0.9966282800018401"
      ]
     },
     "execution_count": 346,
     "metadata": {},
     "output_type": "execute_result"
    }
   ],
   "source": [
    "lgb.score(X_train, Y_train)"
   ]
  },
  {
   "cell_type": "code",
   "execution_count": 347,
   "id": "83340cc4-488b-46b8-8dcd-b42a5f007713",
   "metadata": {},
   "outputs": [
    {
     "data": {
      "text/plain": [
       "0.9979808409209586"
      ]
     },
     "execution_count": 347,
     "metadata": {},
     "output_type": "execute_result"
    }
   ],
   "source": [
    "lgb.score(X_valid, Y_valid)"
   ]
  },
  {
   "cell_type": "code",
   "execution_count": 40,
   "id": "8227c704-d3e9-4bd6-a8d4-f38018fbd5f8",
   "metadata": {},
   "outputs": [
    {
     "ename": "ValueError",
     "evalue": "The feature names should match those that were passed during fit.\nFeature names seen at fit time, yet now missing:\n- CPI\n- Fuel_Price\n- MarkDown1\n- MarkDown2\n- MarkDown4\n- ...\n",
     "output_type": "error",
     "traceback": [
      "\u001b[1;31m---------------------------------------------------------------------------\u001b[0m",
      "\u001b[1;31mValueError\u001b[0m                                Traceback (most recent call last)",
      "Cell \u001b[1;32mIn[40], line 1\u001b[0m\n\u001b[1;32m----> 1\u001b[0m pred \u001b[38;5;241m=\u001b[39m model\u001b[38;5;241m.\u001b[39mpredict(test_final[[\u001b[38;5;124m\"\u001b[39m\u001b[38;5;124mlag_1\u001b[39m\u001b[38;5;124m\"\u001b[39m,\u001b[38;5;124m\"\u001b[39m\u001b[38;5;124mrolling_mean_4\u001b[39m\u001b[38;5;124m\"\u001b[39m,\u001b[38;5;124m\"\u001b[39m\u001b[38;5;124mrolling_sum_4\u001b[39m\u001b[38;5;124m\"\u001b[39m,\u001b[38;5;124m\"\u001b[39m\u001b[38;5;124mmonth\u001b[39m\u001b[38;5;124m\"\u001b[39m,\u001b[38;5;124m\"\u001b[39m\u001b[38;5;124myear\u001b[39m\u001b[38;5;124m\"\u001b[39m,\u001b[38;5;124m\"\u001b[39m\u001b[38;5;124mweekofyear\u001b[39m\u001b[38;5;124m\"\u001b[39m,\u001b[38;5;124m\"\u001b[39m\u001b[38;5;124mIsHoliday\u001b[39m\u001b[38;5;124m\"\u001b[39m,\u001b[38;5;124m\"\u001b[39m\u001b[38;5;124mMarkDown3\u001b[39m\u001b[38;5;124m\"\u001b[39m,\u001b[38;5;124m\"\u001b[39m\u001b[38;5;124mDept\u001b[39m\u001b[38;5;124m\"\u001b[39m,\u001b[38;5;124m\"\u001b[39m\u001b[38;5;124mInteraction\u001b[39m\u001b[38;5;124m\"\u001b[39m]])\n\u001b[0;32m      2\u001b[0m submission \u001b[38;5;241m=\u001b[39m pd\u001b[38;5;241m.\u001b[39mDataFrame({\n\u001b[0;32m      3\u001b[0m     \u001b[38;5;124m'\u001b[39m\u001b[38;5;124mWeekly_Sales\u001b[39m\u001b[38;5;124m'\u001b[39m: pred\n\u001b[0;32m      4\u001b[0m })\n\u001b[0;32m      5\u001b[0m submission\u001b[38;5;241m.\u001b[39mto_csv(\u001b[38;5;124m'\u001b[39m\u001b[38;5;124msubmission.csv\u001b[39m\u001b[38;5;124m'\u001b[39m, index\u001b[38;5;241m=\u001b[39m\u001b[38;5;28;01mTrue\u001b[39;00m)\n",
      "File \u001b[1;32m~\\anaconda3\\Lib\\site-packages\\sklearn\\linear_model\\_base.py:306\u001b[0m, in \u001b[0;36mLinearModel.predict\u001b[1;34m(self, X)\u001b[0m\n\u001b[0;32m    292\u001b[0m \u001b[38;5;28;01mdef\u001b[39;00m \u001b[38;5;21mpredict\u001b[39m(\u001b[38;5;28mself\u001b[39m, X):\n\u001b[0;32m    293\u001b[0m \u001b[38;5;250m    \u001b[39m\u001b[38;5;124;03m\"\"\"\u001b[39;00m\n\u001b[0;32m    294\u001b[0m \u001b[38;5;124;03m    Predict using the linear model.\u001b[39;00m\n\u001b[0;32m    295\u001b[0m \n\u001b[1;32m   (...)\u001b[0m\n\u001b[0;32m    304\u001b[0m \u001b[38;5;124;03m        Returns predicted values.\u001b[39;00m\n\u001b[0;32m    305\u001b[0m \u001b[38;5;124;03m    \"\"\"\u001b[39;00m\n\u001b[1;32m--> 306\u001b[0m     \u001b[38;5;28;01mreturn\u001b[39;00m \u001b[38;5;28mself\u001b[39m\u001b[38;5;241m.\u001b[39m_decision_function(X)\n",
      "File \u001b[1;32m~\\anaconda3\\Lib\\site-packages\\sklearn\\linear_model\\_base.py:285\u001b[0m, in \u001b[0;36mLinearModel._decision_function\u001b[1;34m(self, X)\u001b[0m\n\u001b[0;32m    282\u001b[0m \u001b[38;5;28;01mdef\u001b[39;00m \u001b[38;5;21m_decision_function\u001b[39m(\u001b[38;5;28mself\u001b[39m, X):\n\u001b[0;32m    283\u001b[0m     check_is_fitted(\u001b[38;5;28mself\u001b[39m)\n\u001b[1;32m--> 285\u001b[0m     X \u001b[38;5;241m=\u001b[39m \u001b[38;5;28mself\u001b[39m\u001b[38;5;241m.\u001b[39m_validate_data(X, accept_sparse\u001b[38;5;241m=\u001b[39m[\u001b[38;5;124m\"\u001b[39m\u001b[38;5;124mcsr\u001b[39m\u001b[38;5;124m\"\u001b[39m, \u001b[38;5;124m\"\u001b[39m\u001b[38;5;124mcsc\u001b[39m\u001b[38;5;124m\"\u001b[39m, \u001b[38;5;124m\"\u001b[39m\u001b[38;5;124mcoo\u001b[39m\u001b[38;5;124m\"\u001b[39m], reset\u001b[38;5;241m=\u001b[39m\u001b[38;5;28;01mFalse\u001b[39;00m)\n\u001b[0;32m    286\u001b[0m     coef_ \u001b[38;5;241m=\u001b[39m \u001b[38;5;28mself\u001b[39m\u001b[38;5;241m.\u001b[39mcoef_\n\u001b[0;32m    287\u001b[0m     \u001b[38;5;28;01mif\u001b[39;00m coef_\u001b[38;5;241m.\u001b[39mndim \u001b[38;5;241m==\u001b[39m \u001b[38;5;241m1\u001b[39m:\n",
      "File \u001b[1;32m~\\anaconda3\\Lib\\site-packages\\sklearn\\base.py:608\u001b[0m, in \u001b[0;36mBaseEstimator._validate_data\u001b[1;34m(self, X, y, reset, validate_separately, cast_to_ndarray, **check_params)\u001b[0m\n\u001b[0;32m    537\u001b[0m \u001b[38;5;28;01mdef\u001b[39;00m \u001b[38;5;21m_validate_data\u001b[39m(\n\u001b[0;32m    538\u001b[0m     \u001b[38;5;28mself\u001b[39m,\n\u001b[0;32m    539\u001b[0m     X\u001b[38;5;241m=\u001b[39m\u001b[38;5;124m\"\u001b[39m\u001b[38;5;124mno_validation\u001b[39m\u001b[38;5;124m\"\u001b[39m,\n\u001b[1;32m   (...)\u001b[0m\n\u001b[0;32m    544\u001b[0m     \u001b[38;5;241m*\u001b[39m\u001b[38;5;241m*\u001b[39mcheck_params,\n\u001b[0;32m    545\u001b[0m ):\n\u001b[0;32m    546\u001b[0m \u001b[38;5;250m    \u001b[39m\u001b[38;5;124;03m\"\"\"Validate input data and set or check the `n_features_in_` attribute.\u001b[39;00m\n\u001b[0;32m    547\u001b[0m \n\u001b[0;32m    548\u001b[0m \u001b[38;5;124;03m    Parameters\u001b[39;00m\n\u001b[1;32m   (...)\u001b[0m\n\u001b[0;32m    606\u001b[0m \u001b[38;5;124;03m        validated.\u001b[39;00m\n\u001b[0;32m    607\u001b[0m \u001b[38;5;124;03m    \"\"\"\u001b[39;00m\n\u001b[1;32m--> 608\u001b[0m     \u001b[38;5;28mself\u001b[39m\u001b[38;5;241m.\u001b[39m_check_feature_names(X, reset\u001b[38;5;241m=\u001b[39mreset)\n\u001b[0;32m    610\u001b[0m     \u001b[38;5;28;01mif\u001b[39;00m y \u001b[38;5;129;01mis\u001b[39;00m \u001b[38;5;28;01mNone\u001b[39;00m \u001b[38;5;129;01mand\u001b[39;00m \u001b[38;5;28mself\u001b[39m\u001b[38;5;241m.\u001b[39m_get_tags()[\u001b[38;5;124m\"\u001b[39m\u001b[38;5;124mrequires_y\u001b[39m\u001b[38;5;124m\"\u001b[39m]:\n\u001b[0;32m    611\u001b[0m         \u001b[38;5;28;01mraise\u001b[39;00m \u001b[38;5;167;01mValueError\u001b[39;00m(\n\u001b[0;32m    612\u001b[0m             \u001b[38;5;124mf\u001b[39m\u001b[38;5;124m\"\u001b[39m\u001b[38;5;124mThis \u001b[39m\u001b[38;5;132;01m{\u001b[39;00m\u001b[38;5;28mself\u001b[39m\u001b[38;5;241m.\u001b[39m\u001b[38;5;18m__class__\u001b[39m\u001b[38;5;241m.\u001b[39m\u001b[38;5;18m__name__\u001b[39m\u001b[38;5;132;01m}\u001b[39;00m\u001b[38;5;124m estimator \u001b[39m\u001b[38;5;124m\"\u001b[39m\n\u001b[0;32m    613\u001b[0m             \u001b[38;5;124m\"\u001b[39m\u001b[38;5;124mrequires y to be passed, but the target y is None.\u001b[39m\u001b[38;5;124m\"\u001b[39m\n\u001b[0;32m    614\u001b[0m         )\n",
      "File \u001b[1;32m~\\anaconda3\\Lib\\site-packages\\sklearn\\base.py:535\u001b[0m, in \u001b[0;36mBaseEstimator._check_feature_names\u001b[1;34m(self, X, reset)\u001b[0m\n\u001b[0;32m    530\u001b[0m \u001b[38;5;28;01mif\u001b[39;00m \u001b[38;5;129;01mnot\u001b[39;00m missing_names \u001b[38;5;129;01mand\u001b[39;00m \u001b[38;5;129;01mnot\u001b[39;00m unexpected_names:\n\u001b[0;32m    531\u001b[0m     message \u001b[38;5;241m+\u001b[39m\u001b[38;5;241m=\u001b[39m (\n\u001b[0;32m    532\u001b[0m         \u001b[38;5;124m\"\u001b[39m\u001b[38;5;124mFeature names must be in the same order as they were in fit.\u001b[39m\u001b[38;5;130;01m\\n\u001b[39;00m\u001b[38;5;124m\"\u001b[39m\n\u001b[0;32m    533\u001b[0m     )\n\u001b[1;32m--> 535\u001b[0m \u001b[38;5;28;01mraise\u001b[39;00m \u001b[38;5;167;01mValueError\u001b[39;00m(message)\n",
      "\u001b[1;31mValueError\u001b[0m: The feature names should match those that were passed during fit.\nFeature names seen at fit time, yet now missing:\n- CPI\n- Fuel_Price\n- MarkDown1\n- MarkDown2\n- MarkDown4\n- ...\n"
     ]
    }
   ],
   "source": [
    "pred = model.predict(test_final[[\"lag_1\",\"rolling_mean_4\",\"rolling_sum_4\",\"month\",\"year\",\"weekofyear\",\"IsHoliday\",\"MarkDown3\",\"Dept\",\"Interaction\"]])\n",
    "submission = pd.DataFrame({\n",
    "    'Weekly_Sales': pred\n",
    "})\n",
    "submission.to_csv('submission.csv', index=True)\n"
   ]
  },
  {
   "cell_type": "code",
   "execution_count": null,
   "id": "f67cccfb-74e7-452c-b739-643f4ad93d2c",
   "metadata": {},
   "outputs": [],
   "source": [
    "predicted = model.predict(X_train)"
   ]
  },
  {
   "cell_type": "code",
   "execution_count": 41,
   "id": "dcf331c3-d09d-419c-bbf0-bc58890361cb",
   "metadata": {},
   "outputs": [
    {
     "ename": "NameError",
     "evalue": "name 'predicted' is not defined",
     "output_type": "error",
     "traceback": [
      "\u001b[1;31m---------------------------------------------------------------------------\u001b[0m",
      "\u001b[1;31mNameError\u001b[0m                                 Traceback (most recent call last)",
      "Cell \u001b[1;32mIn[41], line 3\u001b[0m\n\u001b[0;32m      1\u001b[0m df \u001b[38;5;241m=\u001b[39m pd\u001b[38;5;241m.\u001b[39mDataFrame({\u001b[38;5;124m\"\u001b[39m\u001b[38;5;124mDate\u001b[39m\u001b[38;5;124m\"\u001b[39m : train_final[\u001b[38;5;124m'\u001b[39m\u001b[38;5;124mDate\u001b[39m\u001b[38;5;124m'\u001b[39m][:\u001b[38;5;241m380000\u001b[39m] ,\n\u001b[0;32m      2\u001b[0m                   \u001b[38;5;124m\"\u001b[39m\u001b[38;5;124mActual\u001b[39m\u001b[38;5;124m\"\u001b[39m : train_final[\u001b[38;5;124m'\u001b[39m\u001b[38;5;124mWeekly_Sales\u001b[39m\u001b[38;5;124m'\u001b[39m][:\u001b[38;5;241m380000\u001b[39m],\n\u001b[1;32m----> 3\u001b[0m                   \u001b[38;5;124m\"\u001b[39m\u001b[38;5;124mpredicted\u001b[39m\u001b[38;5;124m\"\u001b[39m : predicted})\n",
      "\u001b[1;31mNameError\u001b[0m: name 'predicted' is not defined"
     ]
    }
   ],
   "source": [
    "df = pd.DataFrame({\"Date\" : train_final['Date'][:380000] ,\n",
    "                  \"Actual\" : train_final['Weekly_Sales'][:380000],\n",
    "                  \"predicted\" : predicted})"
   ]
  },
  {
   "cell_type": "code",
   "execution_count": 38,
   "id": "eb6d7725-a421-4b26-9113-5bf96b777b3b",
   "metadata": {},
   "outputs": [
    {
     "ename": "NameError",
     "evalue": "name 'df' is not defined",
     "output_type": "error",
     "traceback": [
      "\u001b[1;31m---------------------------------------------------------------------------\u001b[0m",
      "\u001b[1;31mNameError\u001b[0m                                 Traceback (most recent call last)",
      "Cell \u001b[1;32mIn[38], line 1\u001b[0m\n\u001b[1;32m----> 1\u001b[0m a \u001b[38;5;241m=\u001b[39m df[[\u001b[38;5;124m'\u001b[39m\u001b[38;5;124mDate\u001b[39m\u001b[38;5;124m'\u001b[39m,\u001b[38;5;124m'\u001b[39m\u001b[38;5;124mActual\u001b[39m\u001b[38;5;124m'\u001b[39m]]\u001b[38;5;241m.\u001b[39mgroupby(\u001b[38;5;124m\"\u001b[39m\u001b[38;5;124mDate\u001b[39m\u001b[38;5;124m\"\u001b[39m)\u001b[38;5;241m.\u001b[39msum()\u001b[38;5;241m.\u001b[39mreset_index()[\u001b[38;5;124m'\u001b[39m\u001b[38;5;124mActual\u001b[39m\u001b[38;5;124m'\u001b[39m]\n\u001b[0;32m      2\u001b[0m d \u001b[38;5;241m=\u001b[39m df[[\u001b[38;5;124m'\u001b[39m\u001b[38;5;124mDate\u001b[39m\u001b[38;5;124m'\u001b[39m,\u001b[38;5;124m'\u001b[39m\u001b[38;5;124mActual\u001b[39m\u001b[38;5;124m'\u001b[39m]]\u001b[38;5;241m.\u001b[39mgroupby(\u001b[38;5;124m\"\u001b[39m\u001b[38;5;124mDate\u001b[39m\u001b[38;5;124m\"\u001b[39m)\u001b[38;5;241m.\u001b[39msum()\u001b[38;5;241m.\u001b[39mreset_index()[\u001b[38;5;124m'\u001b[39m\u001b[38;5;124mDate\u001b[39m\u001b[38;5;124m'\u001b[39m]\n\u001b[0;32m      3\u001b[0m p \u001b[38;5;241m=\u001b[39m df[[\u001b[38;5;124m'\u001b[39m\u001b[38;5;124mDate\u001b[39m\u001b[38;5;124m'\u001b[39m,\u001b[38;5;124m'\u001b[39m\u001b[38;5;124mpredicted\u001b[39m\u001b[38;5;124m'\u001b[39m]]\u001b[38;5;241m.\u001b[39mgroupby(\u001b[38;5;124m\"\u001b[39m\u001b[38;5;124mDate\u001b[39m\u001b[38;5;124m\"\u001b[39m)\u001b[38;5;241m.\u001b[39msum()\u001b[38;5;241m.\u001b[39mreset_index()[\u001b[38;5;124m'\u001b[39m\u001b[38;5;124mpredicted\u001b[39m\u001b[38;5;124m'\u001b[39m]\n",
      "\u001b[1;31mNameError\u001b[0m: name 'df' is not defined"
     ]
    }
   ],
   "source": [
    "a = df[['Date','Actual']].groupby(\"Date\").sum().reset_index()['Actual']\n",
    "d = df[['Date','Actual']].groupby(\"Date\").sum().reset_index()['Date']\n",
    "p = df[['Date','predicted']].groupby(\"Date\").sum().reset_index()['predicted']"
   ]
  },
  {
   "cell_type": "code",
   "execution_count": 39,
   "id": "2c872953-4e43-4639-b121-d0f341c2b012",
   "metadata": {},
   "outputs": [
    {
     "ename": "NameError",
     "evalue": "name 'd' is not defined",
     "output_type": "error",
     "traceback": [
      "\u001b[1;31m---------------------------------------------------------------------------\u001b[0m",
      "\u001b[1;31mNameError\u001b[0m                                 Traceback (most recent call last)",
      "Cell \u001b[1;32mIn[39], line 2\u001b[0m\n\u001b[0;32m      1\u001b[0m plt\u001b[38;5;241m.\u001b[39mfigure(figsize\u001b[38;5;241m=\u001b[39m(\u001b[38;5;241m14\u001b[39m,\u001b[38;5;241m6\u001b[39m))\n\u001b[1;32m----> 2\u001b[0m plt\u001b[38;5;241m.\u001b[39mplot(d, a, label\u001b[38;5;241m=\u001b[39m\u001b[38;5;124m'\u001b[39m\u001b[38;5;124mActual\u001b[39m\u001b[38;5;124m'\u001b[39m, linewidth\u001b[38;5;241m=\u001b[39m\u001b[38;5;241m2\u001b[39m)\n\u001b[0;32m      3\u001b[0m plt\u001b[38;5;241m.\u001b[39mplot(d, p, label\u001b[38;5;241m=\u001b[39m\u001b[38;5;124m'\u001b[39m\u001b[38;5;124mPredicted\u001b[39m\u001b[38;5;124m'\u001b[39m, linewidth\u001b[38;5;241m=\u001b[39m\u001b[38;5;241m2\u001b[39m)\n\u001b[0;32m      4\u001b[0m plt\u001b[38;5;241m.\u001b[39mxlabel(\u001b[38;5;124m'\u001b[39m\u001b[38;5;124mDate\u001b[39m\u001b[38;5;124m'\u001b[39m)\n",
      "\u001b[1;31mNameError\u001b[0m: name 'd' is not defined"
     ]
    },
    {
     "data": {
      "text/plain": [
       "<Figure size 1400x600 with 0 Axes>"
      ]
     },
     "metadata": {},
     "output_type": "display_data"
    }
   ],
   "source": [
    "plt.figure(figsize=(14,6))\n",
    "plt.plot(d, a, label='Actual', linewidth=2)\n",
    "plt.plot(d, p, label='Predicted', linewidth=2)\n",
    "plt.xlabel('Date')\n",
    "plt.ylabel('Weekly Sales')\n",
    "plt.title('Actual vs Predicted Sales')\n",
    "plt.legend()\n",
    "plt.grid(True)\n",
    "plt.show()"
   ]
  },
  {
   "cell_type": "code",
   "execution_count": null,
   "id": "a8f1a593-34e7-40e4-92a3-003422f4936e",
   "metadata": {},
   "outputs": [],
   "source": []
  },
  {
   "cell_type": "code",
   "execution_count": null,
   "id": "30abecef-23d8-4648-8b9c-7843723b0a14",
   "metadata": {},
   "outputs": [],
   "source": []
  }
 ],
 "metadata": {
  "kernelspec": {
   "display_name": "Python 3 (ipykernel)",
   "language": "python",
   "name": "python3"
  },
  "language_info": {
   "codemirror_mode": {
    "name": "ipython",
    "version": 3
   },
   "file_extension": ".py",
   "mimetype": "text/x-python",
   "name": "python",
   "nbconvert_exporter": "python",
   "pygments_lexer": "ipython3",
   "version": "3.12.7"
  }
 },
 "nbformat": 4,
 "nbformat_minor": 5
}
